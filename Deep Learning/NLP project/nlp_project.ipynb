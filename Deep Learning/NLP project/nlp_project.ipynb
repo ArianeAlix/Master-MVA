{
  "nbformat": 4,
  "nbformat_minor": 0,
  "metadata": {
    "kernelspec": {
      "display_name": "Python 3",
      "language": "python",
      "name": "python3"
    },
    "language_info": {
      "codemirror_mode": {
        "name": "ipython",
        "version": 3
      },
      "file_extension": ".py",
      "mimetype": "text/x-python",
      "name": "python",
      "nbconvert_exporter": "python",
      "pygments_lexer": "ipython3",
      "version": "3.5.4"
    },
    "colab": {
      "name": "nlp_project.ipynb",
      "provenance": [],
      "collapsed_sections": [],
      "machine_shape": "hm"
    }
  },
  "cells": [
    {
      "cell_type": "markdown",
      "metadata": {
        "id": "dspzjNTL8VLi",
        "colab_type": "text"
      },
      "source": [
        "# Deep Learning for NLP - Project"
      ]
    },
    {
      "cell_type": "markdown",
      "metadata": {
        "id": "OM-DJHep8VLk",
        "colab_type": "text"
      },
      "source": [
        "RULES:\n",
        "\n",
        "* Do not create any additional cell\n",
        "\n",
        "* Fill in the blanks\n",
        "\n",
        "* All cells should be runnable (modulo trivial compatibility bugs that we'd fix)\n",
        "\n",
        "* 4 / 20 points will be allocated to the clarity of your code\n",
        "\n",
        "* Efficient code will have a bonus\n",
        "\n",
        "DELIVERABLE:\n",
        "\n",
        "* the pdf with your answers\n",
        "* this notebook\n",
        "* the predictions of the SST test set\n",
        "\n",
        "DO NOT INCLUDE THE DATASETS IN THE DELIVERABLE.."
      ]
    },
    {
      "cell_type": "code",
      "metadata": {
        "id": "Aygnk9uL9CjL",
        "colab_type": "code",
        "colab": {
          "base_uri": "https://localhost:8080/",
          "height": 125
        },
        "outputId": "04e1b78a-d050-42a4-ee35-2501756f8c57"
      },
      "source": [
        "import os\n",
        "from google.colab import drive\n",
        "drive.mount('/content/drive', force_remount=True)\n",
        "os.chdir('/content/drive/My Drive/MVA/Deep Learning')"
      ],
      "execution_count": 2,
      "outputs": [
        {
          "output_type": "stream",
          "text": [
            "Go to this URL in a browser: https://accounts.google.com/o/oauth2/auth?client_id=947318989803-6bn6qk8qdgf4n4g3pfee6491hc0brc4i.apps.googleusercontent.com&redirect_uri=urn%3aietf%3awg%3aoauth%3a2.0%3aoob&response_type=code&scope=email%20https%3a%2f%2fwww.googleapis.com%2fauth%2fdocs.test%20https%3a%2f%2fwww.googleapis.com%2fauth%2fdrive%20https%3a%2f%2fwww.googleapis.com%2fauth%2fdrive.photos.readonly%20https%3a%2f%2fwww.googleapis.com%2fauth%2fpeopleapi.readonly\n",
            "\n",
            "Enter your authorization code:\n",
            "··········\n",
            "Mounted at /content/drive\n"
          ],
          "name": "stdout"
        }
      ]
    },
    {
      "cell_type": "code",
      "metadata": {
        "jupyter": {
          "outputs_hidden": false
        },
        "id": "IHygy8Ix8VLl",
        "colab_type": "code",
        "colab": {}
      },
      "source": [
        "# Python 3.6 or above is required\n",
        "from collections import defaultdict\n",
        "import gzip\n",
        "import numpy as np\n",
        "from pathlib import Path\n",
        "import urllib.request\n",
        "PATH_TO_DATA = Path('./data/')\n",
        "en_embeddings_path = PATH_TO_DATA / 'cc.en.300.vec.gz'\n",
        "fr_embeddings_path = PATH_TO_DATA / 'cc.fr.300.vec.gz'"
      ],
      "execution_count": 0,
      "outputs": []
    },
    {
      "cell_type": "code",
      "metadata": {
        "id": "7pze9zax8VLp",
        "colab_type": "code",
        "colab": {}
      },
      "source": [
        "PATH_TO_DATA = Path('./data/')\n",
        "# Download word vectors, might take a few minutes and about ~3GB of storage space\n",
        "en_embeddings_path = PATH_TO_DATA / 'cc.en.300.vec.gz'\n",
        "if not en_embeddings_path.exists():\n",
        "    urllib.request.urlretrieve('https://dl.fbaipublicfiles.com/fasttext/vectors-crawl/cc.en.300.vec.gz', r'./data/cc.en.300.vec.gz')\n",
        "fr_embeddings_path = PATH_TO_DATA / 'cc.fr.300.vec.gz'\n",
        "if not fr_embeddings_path.exists():\n",
        "    urllib.request.urlretrieve('https://dl.fbaipublicfiles.com/fasttext/vectors-crawl/cc.fr.300.vec.gz', r'./data/cc.fr.300.vec.gz')"
      ],
      "execution_count": 0,
      "outputs": []
    },
    {
      "cell_type": "markdown",
      "metadata": {
        "id": "LCXyrOCi8VLs",
        "colab_type": "text"
      },
      "source": [
        "# 1) Monolingual (English) word embeddings "
      ]
    },
    {
      "cell_type": "code",
      "metadata": {
        "id": "k07wnsUd8VLt",
        "colab_type": "code",
        "colab": {}
      },
      "source": [
        "class Word2Vec():\n",
        "\n",
        "    def __init__(self, filepath, vocab_size=50000):\n",
        "        self.words, self.embeddings = self.load_wordvec(filepath, vocab_size)\n",
        "        # Mappings for O(1) retrieval:\n",
        "        self.word2id = {word: idx for idx, word in enumerate(self.words)}\n",
        "        self.id2word = {idx: word for idx, word in enumerate(self.words)}\n",
        "    \n",
        "    \n",
        "    def load_wordvec(self, filepath, vocab_size):\n",
        "        assert str(filepath).endswith('.gz')\n",
        "        words = []\n",
        "        embeddings = []\n",
        "        with gzip.open(filepath, 'rt', encoding=\"utf8\") as f:  # Read compressed file directly\n",
        "            next(f)  # Skip header\n",
        "            for i, line in enumerate(f):\n",
        "                word, vec = line.split(' ', 1)\n",
        "                words.append(word)\n",
        "                embeddings.append(np.fromstring(vec, sep=' '))\n",
        "                if i == (vocab_size - 1):\n",
        "                    break\n",
        "        print('Loaded %s pretrained word vectors' % (len(words)))\n",
        "        return words, np.vstack(embeddings)\n",
        "    \n",
        "    \n",
        "    def encode(self, word):\n",
        "        # Returns the 1D embedding of a given word\n",
        "        word_id = self.word2id.get(word,\"<UNKW>\")\n",
        "        \n",
        "        # Ignore unknown words\n",
        "        if word_id !=\"<UNKW>\":\n",
        "            w = self.embeddings[word_id]\n",
        "            return w\n",
        "    \n",
        "    \n",
        "    def score(self, word1, word2):\n",
        "        # Encode the words\n",
        "        w1 = self.encode(word1)\n",
        "        w2 = self.encode(word2)\n",
        "        \n",
        "        # Compute the cosine similarity\n",
        "        cos_sim = np.dot(w1,w2)/(np.linalg.norm(w1)*np.linalg.norm(w2))\n",
        "        \n",
        "        return cos_sim\n",
        "\n",
        "    \n",
        "    def most_similar(self, word, k=5):\n",
        "        scores = {}\n",
        "        \n",
        "        for word_id, word_1 in enumerate(self.words):\n",
        "            scores[word_1] = self.score(word,word_1)\n",
        "        \n",
        "        ranked = sorted(scores.items(), key =  lambda kv:(kv[1], kv[0]))\n",
        "        \n",
        "        # Remove the top 1 which is the word itself\n",
        "        top_k = ranked[-k-1:-1]\n",
        "        \n",
        "        # Extract the list of words only and reverse it\n",
        "        top_k = np.array(top_k)[:,0].astype(str)[::-1]\n",
        "\n",
        "        return top_k"
      ],
      "execution_count": 0,
      "outputs": []
    },
    {
      "cell_type": "code",
      "metadata": {
        "jupyter": {
          "outputs_hidden": false
        },
        "id": "GCGHFf7J8VLy",
        "colab_type": "code",
        "colab": {},
        "outputId": "d0ad9249-7f18-495b-db12-dc53dbc800cf"
      },
      "source": [
        "word2vec = Word2Vec(str(en_embeddings_path), vocab_size=50000)\n",
        "\n",
        "# You will be evaluated on the output of the following:\n",
        "for word1, word2 in zip(('cat', 'cat', 'cat', 'Paris', 'Paris', 'Paris', 'Paris'), ('tree', 'dog', 'pet', 'France', 'Germany', 'baguette', 'donut')):\n",
        "    print(word1, word2, word2vec.score(word1, word2))\n",
        "    \n",
        "print('\\n')    \n",
        "    \n",
        "for word in ['cat', 'dog', 'dogs', 'Paris', 'Germany']:\n",
        "    print(\"Words most similar to\",word,\":\",word2vec.most_similar(word))"
      ],
      "execution_count": 0,
      "outputs": [
        {
          "output_type": "stream",
          "text": [
            "Loaded 50000 pretrained word vectors\n",
            "cat tree 0.2644975466165475\n",
            "cat dog 0.7078641298542562\n",
            "cat pet 0.6753313359976381\n",
            "Paris France 0.6892958925806542\n",
            "Paris Germany 0.4051242286737548\n",
            "Paris baguette 0.29399958277802224\n",
            "Paris donut -0.006588507552348005\n",
            "\n",
            "\n",
            "Words most similar to cat : ['cats' 'kitty' 'kitten' 'feline' 'dog']\n",
            "Words most similar to dog : ['dogs' 'puppy' 'pup' 'canine' 'pet']\n",
            "Words most similar to dogs : ['dog' 'cats' 'puppies' 'Dogs' 'pets']\n",
            "Words most similar to Paris : ['France' 'Parisian' 'Marseille' 'Brussels' 'Strasbourg']\n",
            "Words most similar to Germany : ['Austria' 'Europe' 'Berlin' 'Hamburg' 'Bavaria']\n"
          ],
          "name": "stdout"
        }
      ]
    },
    {
      "cell_type": "code",
      "metadata": {
        "jupyter": {
          "outputs_hidden": false
        },
        "id": "XuWpmBbI8VL3",
        "colab_type": "code",
        "colab": {}
      },
      "source": [
        "class BagOfWords():\n",
        "    \n",
        "    def __init__(self, word2vec):\n",
        "        self.word2vec = word2vec\n",
        "    \n",
        "    \n",
        "    def build_idf(self, sentences):\n",
        "        # build the idf dictionary: associate each word to its idf value\n",
        "        # -> idf = {word: idf_value, ...}\n",
        "        idf = {}\n",
        "   \n",
        "        # Count the occurences of words in all the sentences\n",
        "        for sentence in sentences:\n",
        "            words = sentence.strip().split(\" \")\n",
        "            words = np.unique(words)\n",
        "            for word in words:\n",
        "                # If necessary creates new key and adds 1 to the count\n",
        "                idf[word] = idf.get(word,0) + 1\n",
        "                \n",
        "        # Computation of the Inverse Data Frequencies\n",
        "        for word in idf.keys():\n",
        "            idf[word] = np.log(len(sentences) / idf[word]) \n",
        "        \n",
        "        return idf\n",
        "    \n",
        "    \n",
        "    def encode(self, sentence, idf=None):\n",
        "        # Takes a sentence as input, returns the sentence embedding\n",
        "        \n",
        "        # Format the sentence to a list of words\n",
        "        sentence = sentence.strip().split(\" \")\n",
        "        \n",
        "        # Computing the (weighted) mean of vectors, ignoring if the encoding is None (unkwown words)\n",
        "        if idf is None:\n",
        "            # mean of word vectors\n",
        "            encoding = np.vstack([self.word2vec.encode(word) for word in sentence if (self.word2vec.encode(word) is not None)])\n",
        "            return np.mean(encoding,axis=0)\n",
        "        else:\n",
        "            # idf-weighted mean of word vectors\n",
        "            weighted_encoding = np.vstack([self.word2vec.encode(word)*idf.get(word,0) for word in sentence if (self.word2vec.encode(word) is not None)])\n",
        "            return np.mean(weighted_encoding,axis=0)\n",
        "\n",
        "            \n",
        "    def score(self, sentence1, sentence2, idf=None):\n",
        "        # Encode the sentences\n",
        "        s1 = self.encode(sentence1,idf)\n",
        "        s2 = self.encode(sentence2,idf)\n",
        "        \n",
        "        # Compute the cosine similarity\n",
        "        cos_sim = np.dot(s1,s2)/(np.linalg.norm(s1)*np.linalg.norm(s2))\n",
        "        \n",
        "        return cos_sim\n",
        "    \n",
        "    \n",
        "    def most_similar(self, sentence, sentences, idf=None, k=5):\n",
        "        # Return most similar sentences\n",
        "        query = self.encode(sentence, idf)\n",
        "        keys = np.vstack([self.encode(sentence, idf) for sentence in sentences])\n",
        "        \n",
        "        scores = {}\n",
        "        for sentence_1 in sentences:\n",
        "            scores[sentence_1] = self.score(sentence,sentence_1,idf)\n",
        "            \n",
        "        ranked = sorted(scores.items(), key =  lambda kv:(kv[1], kv[0]))\n",
        "            \n",
        "        # Remove the top 1 which is the sentence itself\n",
        "        top_k = ranked[-k-1:-1]\n",
        "        \n",
        "        # Extract the list of sentence only and reverse it\n",
        "        top_k = np.array(top_k)[:,0].astype(str)[::-1]\n",
        "        \n",
        "        return top_k"
      ],
      "execution_count": 0,
      "outputs": []
    },
    {
      "cell_type": "code",
      "metadata": {
        "jupyter": {
          "outputs_hidden": false
        },
        "id": "E0JD8ecL8VL7",
        "colab_type": "code",
        "colab": {},
        "outputId": "0a140db3-65a0-4ce7-d10d-9c49907fddc9"
      },
      "source": [
        "word2vec = Word2Vec(str(en_embeddings_path), vocab_size=50000)\n",
        "sentence2vec = BagOfWords(word2vec)\n",
        "\n",
        "# Load sentences in \"PATH_TO_DATA/sentences.txt\"\n",
        "filepath = str(PATH_TO_DATA / 'sentences.txt')\n",
        "with open(filepath, 'r') as f:\n",
        "    sentences = [line.strip('\\n') for line in f]\n",
        "\n",
        "### -----------   \n",
        "### Without IDF    \n",
        "\n",
        "# You will be evaluated on the output of the following:\n",
        "print('\\n\\tAverage of word embeddings')\n",
        "sentence1 = sentences[7]\n",
        "sentence2 = sentences[13]\n",
        "print(sentence1)\n",
        "print(sentence2)\n",
        "print(\"Similarity between the 2 previous sentences:\", sentence2vec.score(sentence1, sentence2))\n",
        "\n",
        "\n",
        "sentence = sentences[10]\n",
        "similar_sentences = sentence2vec.most_similar(sentence, sentences)  # BagOfWords-mean\n",
        "print('\\n',sentence)\n",
        "print('5 most similar sentences:')\n",
        "\n",
        "# Changed the name of the variable 'sentence' to 'sent' \n",
        "# to keep the one chosen (sentences[10]) in memory\n",
        "for i, sent in enumerate(similar_sentences):\n",
        "    print(str(i+1) + ')', sent)\n",
        "\n",
        "    \n",
        "### --------   \n",
        "### With IDF    \n",
        "    \n",
        "# Build idf scores for each word\n",
        "idf = sentence2vec.build_idf(sentences)\n",
        "\n",
        "print('\\n\\n\\tidf weighted average of word embeddings')\n",
        "print(sentence1)\n",
        "print(sentence2)\n",
        "print(\"Similarity between the 2 previous sentences:\", sentence2vec.score(sentence1, sentence2, idf))\n",
        "similar_sentences = sentence2vec.most_similar(sentence, sentences, idf)  # BagOfWords-idf\n",
        "print('\\n',sentence)\n",
        "print('5 most similar sentences:')\n",
        "for i, sent in enumerate(similar_sentences):\n",
        "    print(str(i+1) + ')', sent)"
      ],
      "execution_count": 0,
      "outputs": [
        {
          "output_type": "stream",
          "text": [
            "Loaded 50000 pretrained word vectors\n",
            "\n",
            "\tAverage of word embeddings\n",
            "1 man singing and 1 man playing a saxophone in a concert . \n",
            "10 people venture out to go crosscountry skiing . \n",
            "Similarity between the 2 previous sentences: 0.7065220648251476\n",
            "\n",
            " 1 smiling african american boy . \n",
            "5 most similar sentences:\n",
            "1) 2 woman dancing while pointing . \n",
            "2) 5 women and 1 man are smiling for the camera . \n",
            "3) a small boy following 4 geese . \n",
            "4) 2 female babies eating chips . \n",
            "5) a young boy and 2 girls open christmas presents . \n",
            "\n",
            "\n",
            "\tidf weighted average of word embeddings\n",
            "1 man singing and 1 man playing a saxophone in a concert . \n",
            "10 people venture out to go crosscountry skiing . \n",
            "Similarity between the 2 previous sentences: 0.6400799939346383\n",
            "\n",
            " 1 smiling african american boy . \n",
            "5 most similar sentences:\n",
            "1) 1 man singing and 1 man playing a saxophone in a concert . \n",
            "2) two women and 1 man walking across the street . \n",
            "3) 3 males and 1 woman enjoying a sporting event \n",
            "4) 5 women and 1 man are smiling for the camera . \n",
            "5) 2 guys facing away from camera , 1 girl smiling at camera with blue shirt , 1 guy with a beverage with a jacket on . \n"
          ],
          "name": "stdout"
        }
      ]
    },
    {
      "cell_type": "markdown",
      "metadata": {
        "id": "4ItmcpMx8VL_",
        "colab_type": "text"
      },
      "source": [
        "# 2) Multilingual (English-French) word embeddings"
      ]
    },
    {
      "cell_type": "markdown",
      "metadata": {
        "id": "KnC3NR058VMA",
        "colab_type": "text"
      },
      "source": [
        "Let's consider a bilingual dictionary of size V_a (e.g French-English).\n",
        "\n",
        "Let's define **X** and **Y** the **French** and **English** matrices.\n",
        "\n",
        "They contain the embeddings associated to the words in the bilingual dictionary.\n",
        "\n",
        "We want to find a **mapping W** that will project the source word space (e.g French) to the target word space (e.g English).\n",
        "\n",
        "Procrustes : **W\\* = argmin || W.X - Y ||  s.t  W^T.W = Id**\n",
        "has a closed form solution:\n",
        "**W = U.V^T  where  U.Sig.V^T = SVD(Y.X^T)**\n",
        "\n",
        "In what follows, you are asked to: "
      ]
    },
    {
      "cell_type": "code",
      "metadata": {
        "id": "MNxB0mZC8VMB",
        "colab_type": "code",
        "colab": {}
      },
      "source": [
        "class MultilingualWordAligner:\n",
        "    \n",
        "    def __init__(self, fr_word2vec, en_word2vec):\n",
        "        self.fr_word2vec = fr_word2vec\n",
        "        self.en_word2vec = en_word2vec\n",
        "        self.aligned_fr_embeddings = self.get_aligned_fr_embeddings()\n",
        "        \n",
        "        \n",
        "    def get_aligned_fr_embeddings(self):\n",
        "        # 1 - Get words that appear in both vocabs (= identical character strings)\n",
        "        #  Use it to create the matrix X (emb_dim, vocab_size) and Y (emb_dim, vocab_size) (of embeddings for these words)\n",
        "        fr_words = self.fr_word2vec.words\n",
        "        en_words = self.en_word2vec.words\n",
        "        \n",
        "        # Words in both lists\n",
        "        fr_en_words = [w for w in fr_words if w in en_words]\n",
        "        n_shared = len(fr_en_words)\n",
        "        \n",
        "        # Initialization of matrices X and Y\n",
        "        X = np.zeros((300, n_shared))\n",
        "        Y = np.zeros((300, n_shared))\n",
        "        \n",
        "        for i in range(n_shared):\n",
        "            word = fr_en_words[i]\n",
        "            X[:,i] = self.fr_word2vec.encode(word)\n",
        "            Y[:,i] = self.en_word2vec.encode(word)\n",
        "             \n",
        "        assert X.shape[0] == 300 and Y.shape[0] == 300\n",
        "        \n",
        "        # 2 - Solve the Procrustes using the numpy package and: np.linalg.svd() and get the optimal W\n",
        "        #     Now self.fr_word2vec.embeddings * W.transpose() is in the same space as en_word2vec.embeddings\n",
        "        \n",
        "        U, _ , V = np.linalg.svd(Y @ X.T)\n",
        "        W = U @ V\n",
        "     \n",
        "        assert W.shape == (300, 300)\n",
        "        return np.matmul(fr_word2vec.embeddings, W.transpose())\n",
        "        \n",
        "        \n",
        "    def get_closest_english_words(self, fr_word, k=3):\n",
        "        # 3 - Return the top k English nearest neighbors to the input French word\n",
        "        \n",
        "        # Get the aligned embedding of the french words and embeddings of all english words\n",
        "        fr_embedding = np.expand_dims(self.aligned_fr_embeddings[self.fr_word2vec.word2id[fr_word]],0)\n",
        "        en_embeddings = self.en_word2vec.embeddings\n",
        "        \n",
        "        # Computation of the similarity scores\n",
        "        scores = en_embeddings @ fr_embedding.T\n",
        "        scores = scores / (np.linalg.norm(fr_embedding) * np.linalg.norm(en_embeddings,axis=1,keepdims=True))\n",
        "\n",
        "        # Top k of indices\n",
        "        top_k = np.argsort(scores.squeeze())[-k:]\n",
        "\n",
        "        # Get corresponding words\n",
        "        similar_english = [self.en_word2vec.words[idx] for idx in top_k]\n",
        "        return similar_english"
      ],
      "execution_count": 0,
      "outputs": []
    },
    {
      "cell_type": "code",
      "metadata": {
        "id": "syQyxq7w8VME",
        "colab_type": "code",
        "colab": {},
        "outputId": "aa3648c3-5ddb-48df-95ac-16e22c02db39"
      },
      "source": [
        "fr_word2vec = Word2Vec(str(fr_embeddings_path), vocab_size=50000)\n",
        "en_word2vec = Word2Vec(str(en_embeddings_path), vocab_size=50000)\n",
        "multilingual_word_aligner = MultilingualWordAligner(fr_word2vec, en_word2vec)\n",
        "\n",
        "# You will be evaluated on the output of the following:\n",
        "fr_words = ['chat', 'chien', 'voiture', 'zut']\n",
        "k = 3\n",
        "for fr_word in fr_words:\n",
        "    print('-' * 10)\n",
        "    print('fr: \"'+str(fr_word)+'\"')\n",
        "    en_words = multilingual_word_aligner.get_closest_english_words(fr_word, k=3)\n",
        "    for en_word in en_words:\n",
        "        print('en: \"'+str(en_word)+'\"')"
      ],
      "execution_count": 0,
      "outputs": [
        {
          "output_type": "stream",
          "text": [
            "Loaded 50000 pretrained word vectors\n",
            "Loaded 50000 pretrained word vectors\n",
            "----------\n",
            "fr: \"chat\"\n",
            "en: \"kitty\"\n",
            "en: \"kitten\"\n",
            "en: \"cat\"\n",
            "----------\n",
            "fr: \"chien\"\n",
            "en: \"pet\"\n",
            "en: \"cat\"\n",
            "en: \"dog\"\n",
            "----------\n",
            "fr: \"voiture\"\n",
            "en: \"automobile\"\n",
            "en: \"vehicle\"\n",
            "en: \"car\"\n",
            "----------\n",
            "fr: \"zut\"\n",
            "en: \"ah\"\n",
            "en: \"Ah\"\n",
            "en: \"oops\"\n"
          ],
          "name": "stdout"
        }
      ]
    },
    {
      "cell_type": "markdown",
      "metadata": {
        "id": "LjN4em_58VMH",
        "colab_type": "text"
      },
      "source": [
        "If you want to dive deeper on this subject: https://github.com/facebookresearch/MUSE"
      ]
    },
    {
      "cell_type": "markdown",
      "metadata": {
        "id": "uK1KZ8dR8VMJ",
        "colab_type": "text"
      },
      "source": [
        "# 3) Sentence classification with BoW and scikit-learn"
      ]
    },
    {
      "cell_type": "code",
      "metadata": {
        "id": "SuBY0ZgM8VMK",
        "colab_type": "code",
        "colab": {}
      },
      "source": [
        "# 1 - Load train/dev/test of Stanford Sentiment TreeBank (SST)\n",
        "#     (https://nlp.stanford.edu/~socherr/EMNLP2013_RNTN.pdf)\n",
        "train_filepath = str(PATH_TO_DATA / 'SST/stsa.fine.train')\n",
        "dev_filepath = str(PATH_TO_DATA / 'SST/stsa.fine.dev')\n",
        "test_filepath = str(PATH_TO_DATA / 'SST/stsa.fine.test.X')\n",
        "\n",
        "\n",
        "def y_sentence(line):\n",
        "    # Takes a line and returns the sentence and the class\n",
        "    line = line.strip()\n",
        "    \n",
        "    y = int(line[0])\n",
        "    sentence = line[1:].strip()\n",
        "\n",
        "    return [y, sentence]\n",
        "\n",
        "\n",
        "# Processing all the files, considering \"utf-8\" encoding so as not to lose accents\n",
        "with open(train_filepath, 'r', encoding='utf-8') as f:\n",
        "    y_train = [y_sentence(line)[0] for line in f]\n",
        "with open(train_filepath, 'r', encoding='utf-8') as f:\n",
        "    x_train = [y_sentence(line)[1] for line in f]\n",
        "\n",
        "with open(dev_filepath, 'r', encoding='utf-8') as f:\n",
        "    y_dev = [y_sentence(line)[0] for line in f]\n",
        "with open(dev_filepath, 'r', encoding='utf-8') as f:\n",
        "    x_dev = [y_sentence(line)[1] for line in f]\n",
        "    \n",
        "with open(test_filepath, 'r', encoding='utf-8') as f:\n",
        "    x_test = [line.strip() for line in f]"
      ],
      "execution_count": 0,
      "outputs": []
    },
    {
      "cell_type": "code",
      "metadata": {
        "id": "5kFnby4B8VMN",
        "colab_type": "code",
        "colab": {
          "base_uri": "https://localhost:8080/",
          "height": 34
        },
        "outputId": "dd2dfb2d-9220-4c06-d0d5-9662d54b0685"
      },
      "source": [
        "# 2 - Encode sentences with the BoW model above\n",
        "word2vec = Word2Vec(str(en_embeddings_path), vocab_size=50000)\n",
        "sentence2vec = BagOfWords(word2vec)\n",
        "\n",
        "#Build an Inverse Data Frequency dictionnary from all available sentences\n",
        "idf = sentence2vec.build_idf(x_train + x_test + x_dev)\n",
        "\n",
        "\n",
        "# Encoded dataset without IDF\n",
        "x_train_encoded = np.vstack([sentence2vec.encode(line) for line in x_train]) \n",
        "x_dev_encoded = np.vstack([sentence2vec.encode(line) for line in x_dev])  \n",
        "x_test_encoded = np.vstack([sentence2vec.encode(line) for line in x_test]) \n",
        "\n",
        "# Encoded dataset with IDF\n",
        "x_train_idf = np.vstack([sentence2vec.encode(line,idf=idf) for line in x_train]) \n",
        "x_dev_idf = np.vstack([sentence2vec.encode(line,idf=idf) for line in x_dev])  \n",
        "x_test_idf = np.vstack([sentence2vec.encode(line,idf=idf) for line in x_test])   "
      ],
      "execution_count": 10,
      "outputs": [
        {
          "output_type": "stream",
          "text": [
            "Loaded 50000 pretrained word vectors\n"
          ],
          "name": "stdout"
        }
      ]
    },
    {
      "cell_type": "code",
      "metadata": {
        "id": "LKE45wSo8VMQ",
        "colab_type": "code",
        "colab": {},
        "outputId": "ea3aff03-11b4-4ec4-fa74-bed1888f3afc"
      },
      "source": [
        "# 3 - Learn Logistic Regression on top of sentence embeddings using scikit-learn\n",
        "#     (consider tuning the L2 regularization on the dev set)\n",
        "#     In the paper, the accuracy for average of word vectors is 32.7%\n",
        "#     (VecAvg, table 1, https://nlp.stanford.edu/~socherr/EMNLP2013_RNTN.pdf)\n",
        "\n",
        "\n",
        "### ----------------------------------\n",
        "### Importation of necessary libraries\n",
        "\n",
        "\n",
        "from sklearn.linear_model import LogisticRegression\n",
        "\n",
        "from sklearn.model_selection import GridSearchCV\n",
        "from pactools.grid_search import GridSearchCVProgressBar\n",
        "\n",
        "from sklearn.model_selection import cross_val_score\n",
        "from sklearn.model_selection import StratifiedKFold\n",
        "\n",
        "\n",
        "### -----------\n",
        "### Without IDF\n",
        "\n",
        "# GridSearch training on x_train and testing on x_dev\n",
        "\n",
        "# All data\n",
        "x_all_encoded = np.concatenate((x_train_encoded,x_dev_encoded))\n",
        "y_all = np.concatenate((y_train,y_dev))\n",
        "\n",
        "# Idnices to use to train/test\n",
        "n_train = len(x_train_encoded)\n",
        "n_dev = len(x_dev_encoded)\n",
        "custom_cv = [(np.arange(n_train), np.arange(n_train,n_train+n_dev))]\n",
        "                \n",
        "logreg = LogisticRegression()\n",
        "\n",
        "#GridSearch to choose the parameters\n",
        "params_grid = [\n",
        "{'penalty': ['l2'], \n",
        "  'C': [10,15,20], # Inverse or regularization strength\n",
        "  'class_weight': [None],\n",
        "  'solver':['lbfgs'],\n",
        "  'multi_class':['auto'],\n",
        "  'random_state':[777],\n",
        "  'max_iter':[1000]},\n",
        "{'penalty': ['elasticnet'], \n",
        "  'l1_ratio':[0.2,0.25,0.3],\n",
        "  'C': [3,5,10], # Inverse or regularization strength\n",
        "  'class_weight': [None],\n",
        "  'solver':['saga'],\n",
        "  'multi_class':['auto'],\n",
        "  'random_state':[777],\n",
        "  'max_iter':[1000]}\n",
        "]\n",
        "\n",
        "grid_search = GridSearchCVProgressBar(logreg, \n",
        "                                  params_grid,\n",
        "                                  cv=custom_cv,\n",
        "                                  verbose=1,\n",
        "                                  error_score=0.0,\n",
        "                                  n_jobs=-1)\n",
        "\n",
        "print('\\n\\tWithout IDF: average of words')\n",
        "\n",
        "grid_search.fit(x_all_encoded,y_all)\n",
        "\n",
        "\n",
        "# Showing best parameters and accuracies\n",
        "logreg.set_params(**grid_search.best_params_)\n",
        "logreg.fit(x_train_encoded,y_train)\n",
        "\n",
        "print('Best parameters:',grid_search.best_params_)\n",
        "print('Score on x_train:','{:.3%}'.format(round(logreg.score(x_train_encoded,y_train),5)))\n",
        "print('Score on x_dev:','{:.3%}'.format(round(logreg.score(x_dev_encoded,y_dev),5)))\n",
        "\n",
        "\n",
        "\n",
        "\n",
        "### --------\n",
        "### With IDF\n",
        "\n",
        "# GridSearch training on x_train and testing on x_dev\n",
        "\n",
        "# All data\n",
        "x_all_idf = np.concatenate((x_train_idf,x_dev_idf))\n",
        "y_all = np.concatenate((y_train,y_dev))\n",
        "\n",
        "# Idnices to use to train/test\n",
        "n_train = len(x_train_idf)\n",
        "n_dev = len(x_dev_idf)\n",
        "custom_cv = [(np.arange(n_train), np.arange(n_train,n_train+n_dev))]\n",
        "                \n",
        "logreg = LogisticRegression()\n",
        "\n",
        "#GridSearch to choose the parameters\n",
        "params_grid = [\n",
        "{'penalty': ['l2'], \n",
        "  'C': [10,15,20], # Inverse or regularization strength\n",
        "  'class_weight': [None],\n",
        "  'solver':['lbfgs'],\n",
        "  'multi_class':['auto'],\n",
        "  'random_state':[777],\n",
        "  'max_iter':[1000]},\n",
        "{'penalty': ['elasticnet'], \n",
        "  'l1_ratio':[0.1,0.15,0.2],\n",
        "  'C': [2,3,5], # Inverse or regularization strength\n",
        "  'class_weight': [None],\n",
        "  'solver':['saga'],\n",
        "  'multi_class':['auto'],\n",
        "  'random_state':[777],\n",
        "  'max_iter':[2000]}\n",
        "]\n",
        "\n",
        "grid_search = GridSearchCVProgressBar(logreg, \n",
        "                                  params_grid,\n",
        "                                  cv=custom_cv,\n",
        "                                  verbose=1,\n",
        "                                  error_score=0.0,\n",
        "                                  n_jobs=-1)\n",
        "\n",
        "\n",
        "print('\\n\\n\\tWith IDF: weighted average')\n",
        "\n",
        "grid_search.fit(x_all_idf,y_all)\n",
        "\n",
        "\n",
        "# Showing best parameters and accuracies\n",
        "logreg.set_params(**grid_search.best_params_)\n",
        "logreg.fit(x_train_idf,y_train)\n",
        "\n",
        "\n",
        "print('Best parameters:',grid_search.best_params_)\n",
        "print('Score on x_train_idf:','{:.3%}'.format(round(logreg.score(x_train_idf,y_train),5)))\n",
        "print('Score on x_dev_idf:','{:.3%}'.format(round(logreg.score(x_dev_idf,y_dev),5)))"
      ],
      "execution_count": 0,
      "outputs": [
        {
          "output_type": "stream",
          "text": [
            "\n",
            "\tWithout IDF: average of words\n",
            "Fitting 1 folds for each of 12 candidates, totalling 12 fits\n"
          ],
          "name": "stdout"
        },
        {
          "output_type": "stream",
          "text": [
            "[Parallel(n_jobs=-1)]: Using backend LokyBackend with 8 concurrent workers.\n",
            "[Parallel(n_jobs=-1)]: Done  10 out of  12 | elapsed:  1.5min remaining:   18.0s\n",
            "[Parallel(n_jobs=-1)]: Done  12 out of  12 | elapsed:  1.8min finished\n"
          ],
          "name": "stderr"
        },
        {
          "output_type": "stream",
          "text": [
            "Best parameters: {'random_state': 777, 'class_weight': None, 'max_iter': 1000, 'penalty': 'l2', 'C': 15, 'multi_class': 'auto', 'solver': 'lbfgs'}\n",
            "Score on x_train: 46.898%\n",
            "Score on x_dev: 41.871%\n",
            "\n",
            "\n",
            "\tWith IDF: weighted average\n",
            "Fitting 1 folds for each of 12 candidates, totalling 12 fits\n"
          ],
          "name": "stdout"
        },
        {
          "output_type": "stream",
          "text": [
            "[Parallel(n_jobs=-1)]: Using backend LokyBackend with 8 concurrent workers.\n",
            "[Parallel(n_jobs=-1)]: Done  10 out of  12 | elapsed: 11.9min remaining:  2.4min\n",
            "[Parallel(n_jobs=-1)]: Done  12 out of  12 | elapsed: 15.1min finished\n"
          ],
          "name": "stderr"
        },
        {
          "output_type": "stream",
          "text": [
            "Best parameters: {'random_state': 777, 'class_weight': None, 'max_iter': 2000, 'penalty': 'elasticnet', 'l1_ratio': 0.1, 'C': 3, 'multi_class': 'auto', 'solver': 'saga'}\n",
            "Score on x_train_idf: 47.647%\n",
            "Score on x_dev_idf: 41.508%\n"
          ],
          "name": "stdout"
        }
      ]
    },
    {
      "cell_type": "code",
      "metadata": {
        "id": "JT_m37Gx8VMT",
        "colab_type": "code",
        "colab": {},
        "outputId": "55c36ee2-4456-458a-a478-5ff5697c8d18"
      },
      "source": [
        "# 4 - Produce 2210 predictions for the test set (in the same order). One line = one prediction (=0,1,2,3,4).\n",
        "#     Attach the output file \"logreg_bov_y_test_sst.txt\" to your deliverable.\n",
        "#     You will be evaluated on the results of the test set.\n",
        "\n",
        "# Trainign on the all the availabel labeled data\n",
        "logreg.fit(x_all_encoded,y_all)\n",
        "\n",
        "with open(\"logreg_bov_y_test_sst.txt\",\"w+\") as f:\n",
        "    y_pred = logreg.predict(x_test_encoded)\n",
        "    for y in y_pred:\n",
        "        f.write(str(y)+\"\\n\")\n",
        "        \n",
        "print('Done')"
      ],
      "execution_count": 0,
      "outputs": [
        {
          "output_type": "stream",
          "text": [
            "Done\n"
          ],
          "name": "stdout"
        }
      ]
    },
    {
      "cell_type": "code",
      "metadata": {
        "id": "gepayRM28VMX",
        "colab_type": "code",
        "colab": {}
      },
      "source": [
        "# BONUS!\n",
        "# 5 - Try to improve performance with another classifier\n",
        "#     Attach the output file \"XXX_bov_y_test_sst.txt\" to your deliverable (where XXX = the name of the classifier)\n",
        "\n",
        "# TYPE CODE HERE"
      ],
      "execution_count": 0,
      "outputs": []
    },
    {
      "cell_type": "markdown",
      "metadata": {
        "id": "IZIPGYkx8VMc",
        "colab_type": "text"
      },
      "source": [
        "# 4) Sentence classification with LSTMs in Keras"
      ]
    },
    {
      "cell_type": "markdown",
      "metadata": {
        "id": "Pc4m5Qiw8VMd",
        "colab_type": "text"
      },
      "source": [
        "## 4.1 - Preprocessing"
      ]
    },
    {
      "cell_type": "code",
      "metadata": {
        "jupyter": {
          "outputs_hidden": false
        },
        "id": "n82MPJ-s8VMe",
        "colab_type": "code",
        "colab": {}
      },
      "source": [
        "import tensorflow as tf"
      ],
      "execution_count": 0,
      "outputs": []
    },
    {
      "cell_type": "code",
      "metadata": {
        "id": "4WbpFF_W8VMk",
        "colab_type": "code",
        "colab": {}
      },
      "source": [
        "# 1 - Using the same dataset, transform text to integers using tf.keras.preprocessing.text.one_hot function\n",
        "#     https://keras.io/preprocessing/text/\n",
        "\n",
        "# One-hot encoding unsing Tensorflow built-in text encoding function\n",
        "from tensorflow.keras.preprocessing import text\n",
        "\n",
        "x_train_encoded = [text.one_hot(sentence, n=50000) for sentence in x_train]\n",
        "x_dev_encoded = [text.one_hot(sentence, n=50000) for sentence in x_dev]\n",
        "x_test_encoded = [text.one_hot(sentence, n=50000) for sentence in x_test]"
      ],
      "execution_count": 0,
      "outputs": []
    },
    {
      "cell_type": "markdown",
      "metadata": {
        "id": "Rvma7Vwn8VMn",
        "colab_type": "text"
      },
      "source": [
        "**Padding input data**\n",
        "\n",
        "Models in Keras (and elsewhere) take batches of sentences of the same length as input. It is because Deep Learning framework have been designed to handle well Tensors, which are particularly suited for fast computation on the GPU.\n",
        "\n",
        "Since sentences have different sizes, we \"pad\" them. That is, we add dummy \"padding\" tokens so that they all have the same length.\n",
        "\n",
        "The input to a Keras model thus has this size : (batchsize, maxseqlen) where maxseqlen is the maximum length of a sentence in the batch."
      ]
    },
    {
      "cell_type": "code",
      "metadata": {
        "id": "mGaCYJ4f8VMo",
        "colab_type": "code",
        "colab": {}
      },
      "source": [
        "# 2 - Pad your sequences using tf.keras.preprocessing.sequence.pad_sequences\n",
        "#     https://keras.io/preprocessing/sequence/\n",
        "\n",
        "from tensorflow.keras.preprocessing.sequence import pad_sequences\n",
        "\n",
        "x_train_padded = pad_sequences(x_train_encoded)\n",
        "x_dev_padded = pad_sequences(x_dev_encoded)\n",
        "x_test_padded = pad_sequences(x_test_encoded)"
      ],
      "execution_count": 0,
      "outputs": []
    },
    {
      "cell_type": "markdown",
      "metadata": {
        "id": "tFlpKqym8VMs",
        "colab_type": "text"
      },
      "source": [
        "## 4.2 - Design and train your model"
      ]
    },
    {
      "cell_type": "code",
      "metadata": {
        "id": "eKeGkwvM8VMt",
        "colab_type": "code",
        "colab": {}
      },
      "source": [
        "# 3 - Design your encoder + classifier using tensorflow.keras.layers\n",
        "#     In Keras, Torch and other deep learning framework, we create a \"container\" which is the Sequential() module.\n",
        "#     Then we add components to this container : the lookup-table, the LSTM, the classifier etc.\n",
        "#     All of these components are contained in the Sequential() and are trained together.\n",
        "#     Note that the embedding layer is initialized randomly and does not take advantage of pre-trained word embeddings.\n",
        "\n",
        "\n",
        "from tensorflow.keras.models import Sequential\n",
        "from tensorflow.keras.layers import Embedding, LSTM, Dense, Activation\n",
        "\n",
        "embed_dim  = 128  # word embedding dimension\n",
        "nhid       = 64  # number of hidden units in the LSTM\n",
        "vocab_size = 50000  # size of the vocabulary\n",
        "n_classes  = 5\n",
        "\n",
        "model = Sequential()\n",
        "model.add(Embedding(vocab_size, embed_dim))\n",
        "model.add(LSTM(nhid, dropout=0.5, recurrent_dropout=0.5))\n",
        "model.add(Dense(n_classes, activation='sigmoid'))"
      ],
      "execution_count": 0,
      "outputs": []
    },
    {
      "cell_type": "code",
      "metadata": {
        "jupyter": {
          "outputs_hidden": false
        },
        "id": "19r6rDgH8VMx",
        "colab_type": "code",
        "colab": {
          "base_uri": "https://localhost:8080/",
          "height": 281
        },
        "outputId": "193bd837-52c7-41b7-88c7-c8518c0e205c"
      },
      "source": [
        "# 4 - Define your loss/optimizer/metrics\n",
        "\n",
        "loss_classif     =  'sparse_categorical_crossentropy' # find the right loss for multi-class classification\n",
        "optimizer        =  'adam' # find the right optimizer\n",
        "metrics_classif  =  ['accuracy']\n",
        "\n",
        "# Observe how easy (but blackboxed) this is in Keras\n",
        "model.compile(loss=loss_classif,\n",
        "              optimizer=optimizer,\n",
        "              metrics=metrics_classif)\n",
        "print(model.summary())"
      ],
      "execution_count": 32,
      "outputs": [
        {
          "output_type": "stream",
          "text": [
            "Model: \"sequential_3\"\n",
            "_________________________________________________________________\n",
            "Layer (type)                 Output Shape              Param #   \n",
            "=================================================================\n",
            "embedding_3 (Embedding)      (None, None, 128)         6400000   \n",
            "_________________________________________________________________\n",
            "lstm_3 (LSTM)                (None, 64)                49408     \n",
            "_________________________________________________________________\n",
            "dense_3 (Dense)              (None, 5)                 325       \n",
            "=================================================================\n",
            "Total params: 6,449,733\n",
            "Trainable params: 6,449,733\n",
            "Non-trainable params: 0\n",
            "_________________________________________________________________\n",
            "None\n"
          ],
          "name": "stdout"
        }
      ]
    },
    {
      "cell_type": "code",
      "metadata": {
        "id": "8hJ1jxvU8VMz",
        "colab_type": "code",
        "colab": {
          "base_uri": "https://localhost:8080/",
          "height": 1000
        },
        "outputId": "561ff084-6577-4f19-c427-923e72da44fd"
      },
      "source": [
        "# 5 - Train your model and find the best hyperparameters for your dev set\n",
        "#     you will be evaluated on the quality of your predictions on the test set\n",
        "#     Keras expects y_train and y_dev to be one-hot encodings of the labels, i.e. with shape=(n_samples, 5)\n",
        "import matplotlib.pyplot as plt\n",
        "\n",
        "bs = 128\n",
        "n_epochs = 10\n",
        "\n",
        "history = model.fit(x_train_padded, \n",
        "                    y_train, \n",
        "                    batch_size=bs, \n",
        "                    epochs=n_epochs, \n",
        "                    validation_data=(x_dev_padded, y_dev))\n",
        "\n",
        "\n",
        "\n",
        "### Plotting the evolution of train/dev results during epochs\n",
        "\n",
        "# Accuracy\n",
        "fig = plt.figure(figsize=(10,5))\n",
        "plt.plot(history.history['acc'], label=\"Training accuracy\")\n",
        "plt.plot(history.history['val_acc'], label=\"Validation accuracy\")\n",
        "plt.legend()\n",
        "plt.title(\"Accuracy along epochs\")\n",
        "\n",
        "\n",
        "# Loss\n",
        "fig = plt.figure(figsize=(10,5))\n",
        "plt.plot(history.history['loss'], label=\"Training loss\")\n",
        "plt.plot(history.history['val_loss'], label=\"Validation loss\")\n",
        "plt.legend()\n",
        "plt.title(\"Loss along epochs\")"
      ],
      "execution_count": 33,
      "outputs": [
        {
          "output_type": "stream",
          "text": [
            "Train on 8544 samples, validate on 1101 samples\n",
            "Epoch 1/10\n",
            "8544/8544 [==============================] - 14s 2ms/sample - loss: 1.5778 - acc: 0.2724 - val_loss: 1.5688 - val_acc: 0.3233\n",
            "Epoch 2/10\n",
            "8544/8544 [==============================] - 13s 2ms/sample - loss: 1.5304 - acc: 0.3234 - val_loss: 1.4879 - val_acc: 0.3560\n",
            "Epoch 3/10\n",
            "8544/8544 [==============================] - 13s 2ms/sample - loss: 1.3512 - acc: 0.4112 - val_loss: 1.3890 - val_acc: 0.3906\n",
            "Epoch 4/10\n",
            "8544/8544 [==============================] - 14s 2ms/sample - loss: 1.1525 - acc: 0.4617 - val_loss: 1.4126 - val_acc: 0.3869\n",
            "Epoch 5/10\n",
            "8544/8544 [==============================] - 13s 2ms/sample - loss: 0.9988 - acc: 0.5099 - val_loss: 1.4972 - val_acc: 0.3824\n",
            "Epoch 6/10\n",
            "8544/8544 [==============================] - 13s 2ms/sample - loss: 0.8540 - acc: 0.5969 - val_loss: 1.6389 - val_acc: 0.3588\n",
            "Epoch 7/10\n",
            "8544/8544 [==============================] - 13s 2ms/sample - loss: 0.7196 - acc: 0.6683 - val_loss: 1.8018 - val_acc: 0.3579\n",
            "Epoch 8/10\n",
            "8544/8544 [==============================] - 13s 2ms/sample - loss: 0.5971 - acc: 0.7393 - val_loss: 1.9396 - val_acc: 0.3560\n",
            "Epoch 9/10\n",
            "8544/8544 [==============================] - 13s 2ms/sample - loss: 0.5011 - acc: 0.7947 - val_loss: 2.1614 - val_acc: 0.3606\n",
            "Epoch 10/10\n",
            "8544/8544 [==============================] - 13s 2ms/sample - loss: 0.4264 - acc: 0.8460 - val_loss: 2.3543 - val_acc: 0.3642\n"
          ],
          "name": "stdout"
        },
        {
          "output_type": "execute_result",
          "data": {
            "text/plain": [
              "Text(0.5, 1.0, 'Loss along epochs')"
            ]
          },
          "metadata": {
            "tags": []
          },
          "execution_count": 33
        },
        {
          "output_type": "display_data",
          "data": {
            "image/png": "[encoded data removed]",
            "text/plain": [
              "<Figure size 720x360 with 1 Axes>"
            ]
          },
          "metadata": {
            "tags": []
          }
        },
        {
          "output_type": "display_data",
          "data": {
            "image/png": "[encoded data removed]",
            "text/plain": [
              "<Figure size 720x360 with 1 Axes>"
            ]
          },
          "metadata": {
            "tags": []
          }
        }
      ]
    },
    {
      "cell_type": "code",
      "metadata": {
        "id": "K30XO1XMo-pv",
        "colab_type": "code",
        "colab": {}
      },
      "source": [
        "# 6 - Generate your predictions on the test set using model.predict(x_test)\n",
        "#     https://keras.io/models/model/\n",
        "#     Log your predictions in a file (one line = one integer: 0,1,2,3,4)\n",
        "#     Attach the output file \"logreg_lstm_y_test_sst.txt\" to your deliverable.\n",
        "\n",
        "# Re-training on the whole available labeled dataset\n",
        "\n",
        "model.fit(pad_sequences(x_train_encoded+x_dev_encoded), \n",
        "          y_train+y_dev, \n",
        "          batch_size=bs, \n",
        "          epochs=n_epochs, \n",
        "          verbose=0)\n",
        "\n",
        "with open(\"logreg_lstm_y_test_sst.txt\",\"w+\") as f:\n",
        "    y_pred = np.argmax(model.predict(x_test_padded),1)\n",
        "    for y in y_pred:\n",
        "        f.write(str(y)+\"\\n\")"
      ],
      "execution_count": 0,
      "outputs": []
    },
    {
      "cell_type": "markdown",
      "metadata": {
        "id": "jZIi5FwF8VM6",
        "colab_type": "text"
      },
      "source": [
        "## 4.3 - innovate !"
      ]
    },
    {
      "cell_type": "code",
      "metadata": {
        "id": "sfmvLDJJWjXw",
        "colab_type": "code",
        "colab": {}
      },
      "source": [
        "### Pad sequences to same lengths\n",
        "n_train =len(x_train)\n",
        "n_dev = len(x_dev)\n",
        "n_test = len(x_test)\n",
        "\n",
        "x_all_padded = pad_sequences(x_train_encoded + x_dev_encoded + x_test_encoded)\n",
        "\n",
        "\n",
        "x_train_padded = x_all_padded[:n_train,:]\n",
        "x_dev_padded = x_all_padded[n_train:n_train+n_dev,:]\n",
        "x_test_padded = x_all_padded[n_train+n_dev :,:]\n",
        "\n",
        "y_train_cat=tf.keras.utils.to_categorical(y_train)\n",
        "y_dev_cat=tf.keras.utils.to_categorical(y_dev)"
      ],
      "execution_count": 0,
      "outputs": []
    },
    {
      "cell_type": "code",
      "metadata": {
        "id": "fp6J_2vcZfz-",
        "colab_type": "code",
        "colab": {
          "base_uri": "https://localhost:8080/",
          "height": 457
        },
        "outputId": "da540513-999a-4e69-fb4a-714ca6a82974"
      },
      "source": [
        "# 7 - Open question: find a model that is better on your dev set\n",
        "#     (e.g: use a 1D ConvNet, use a better classifier, pretrain your lookup tables ..)\n",
        "#     you will get point if the results on the test set are better: be careful of not overfitting your dev set too much..\n",
        "#     Attach the output file \"XXX_XXX_y_test_sst.txt\" to your deliverable.\n",
        "from tensorflow.keras.layers import  Conv1D, MaxPooling1D, Embedding, Bidirectional, Dropout, Flatten\n",
        "\n",
        "vocab_size = 50000  # size of the vocabulary\n",
        "n_classes  = 5\n",
        "embed_dim = 150\n",
        "\n",
        "\n",
        "model = Sequential()\n",
        "model.add(Embedding(vocab_size, embed_dim, input_length=52))\n",
        "\n",
        "model.add(Bidirectional(LSTM(64, return_sequences = True)))\n",
        "model.add(Dropout(0.5))\n",
        "\n",
        "model.add(Conv1D(32, 3, activation='relu'))\n",
        "model.add(MaxPooling1D(2))\n",
        "model.add(Dropout(0.5))\n",
        "\n",
        "model.add(Flatten())\n",
        "model.add(Dense(n_classes, activation='softmax',\n",
        "                kernel_regularizer=tf.keras.regularizers.l2(0.01),\n",
        "                activity_regularizer=tf.keras.regularizers.l1(0.01)))\n",
        "\n",
        "\n",
        "\n",
        "###\n",
        "## LR Scheduler\n",
        "lr_schedule = tf.keras.optimizers.schedules.InverseTimeDecay(\n",
        "              0.001,\n",
        "              decay_steps=2*n_train,\n",
        "              decay_rate=1,\n",
        "              staircase=False)\n",
        "\n",
        "loss_classif     =  'categorical_crossentropy'\n",
        "optimizer        =  'adam'\n",
        "metrics_classif  =  ['accuracy']\n",
        "\n",
        "print(model.summary())\n",
        "\n",
        "\n",
        "\n",
        "model.compile(loss = loss_classif,\n",
        "                  optimizer = tf.keras.optimizers.Adam(lr_schedule),\n",
        "                  metrics = metrics_classif)"
      ],
      "execution_count": 267,
      "outputs": [
        {
          "output_type": "stream",
          "text": [
            "Model: \"sequential_132\"\n",
            "_________________________________________________________________\n",
            "Layer (type)                 Output Shape              Param #   \n",
            "=================================================================\n",
            "embedding_133 (Embedding)    (None, 52, 150)           7500000   \n",
            "_________________________________________________________________\n",
            "bidirectional_24 (Bidirectio (None, 52, 128)           110080    \n",
            "_________________________________________________________________\n",
            "dropout_264 (Dropout)        (None, 52, 128)           0         \n",
            "_________________________________________________________________\n",
            "conv1d_230 (Conv1D)          (None, 50, 32)            12320     \n",
            "_________________________________________________________________\n",
            "max_pooling1d_230 (MaxPoolin (None, 25, 32)            0         \n",
            "_________________________________________________________________\n",
            "dropout_265 (Dropout)        (None, 25, 32)            0         \n",
            "_________________________________________________________________\n",
            "flatten_107 (Flatten)        (None, 800)               0         \n",
            "_________________________________________________________________\n",
            "dense_184 (Dense)            (None, 5)                 4005      \n",
            "=================================================================\n",
            "Total params: 7,626,405\n",
            "Trainable params: 7,626,405\n",
            "Non-trainable params: 0\n",
            "_________________________________________________________________\n",
            "None\n"
          ],
          "name": "stdout"
        }
      ]
    },
    {
      "cell_type": "code",
      "metadata": {
        "id": "EM_Iv5mIZucn",
        "colab_type": "code",
        "colab": {
          "base_uri": "https://localhost:8080/",
          "height": 1000
        },
        "outputId": "cc6a69d8-d94d-4dc8-b4b5-6a2bfa14c567"
      },
      "source": [
        "import matplotlib.pyplot as plt\n",
        "\n",
        "n_epochs = 10\n",
        "bs = 256\n",
        "\n",
        "history = model.fit(x_train_padded, \n",
        "                    y_train_cat,\n",
        "                    batch_size=bs,  \n",
        "                    epochs=n_epochs, \n",
        "                    validation_data=(x_dev_padded, y_dev_cat))\n",
        "\n",
        "\n",
        "\n",
        "### Plotting the evolution of train/dev results during epochs\n",
        "\n",
        "# Accuracy\n",
        "fig = plt.figure(figsize=(10,5))\n",
        "plt.plot(history.history['acc'], label=\"Training accuracy\")\n",
        "plt.plot(history.history['val_acc'], label=\"Validation accuracy\")\n",
        "plt.legend()\n",
        "plt.title(\"Accuracy along epochs\")\n",
        "\n",
        "\n",
        "# Loss\n",
        "fig = plt.figure(figsize=(10,5))\n",
        "plt.plot(history.history['loss'], label=\"Training loss\")\n",
        "plt.plot(history.history['val_loss'], label=\"Validation loss\")\n",
        "plt.legend()\n",
        "plt.title(\"Loss along epochs\")"
      ],
      "execution_count": 268,
      "outputs": [
        {
          "output_type": "stream",
          "text": [
            "Train on 8544 samples, validate on 1101 samples\n",
            "Epoch 1/10\n",
            "8544/8544 [==============================] - 22s 3ms/sample - loss: 1.6597 - acc: 0.2603 - val_loss: 1.6291 - val_acc: 0.2598\n",
            "Epoch 2/10\n",
            "8544/8544 [==============================] - 11s 1ms/sample - loss: 1.6086 - acc: 0.2825 - val_loss: 1.5961 - val_acc: 0.2652\n",
            "Epoch 3/10\n",
            "8544/8544 [==============================] - 11s 1ms/sample - loss: 1.4730 - acc: 0.3717 - val_loss: 1.4368 - val_acc: 0.3806\n",
            "Epoch 4/10\n",
            "8544/8544 [==============================] - 11s 1ms/sample - loss: 1.1294 - acc: 0.5229 - val_loss: 1.4530 - val_acc: 0.3824\n",
            "Epoch 5/10\n",
            "8544/8544 [==============================] - 11s 1ms/sample - loss: 0.8347 - acc: 0.6772 - val_loss: 1.6603 - val_acc: 0.3660\n",
            "Epoch 6/10\n",
            "8544/8544 [==============================] - 11s 1ms/sample - loss: 0.6020 - acc: 0.7894 - val_loss: 2.0536 - val_acc: 0.3342\n",
            "Epoch 7/10\n",
            "8544/8544 [==============================] - 11s 1ms/sample - loss: 0.4496 - acc: 0.8508 - val_loss: 2.3536 - val_acc: 0.3497\n",
            "Epoch 8/10\n",
            "8544/8544 [==============================] - 11s 1ms/sample - loss: 0.3202 - acc: 0.8998 - val_loss: 2.7675 - val_acc: 0.3388\n",
            "Epoch 9/10\n",
            "8544/8544 [==============================] - 11s 1ms/sample - loss: 0.2265 - acc: 0.9357 - val_loss: 3.2253 - val_acc: 0.3597\n",
            "Epoch 10/10\n",
            "8544/8544 [==============================] - 11s 1ms/sample - loss: 0.1689 - acc: 0.9601 - val_loss: 3.6496 - val_acc: 0.3442\n"
          ],
          "name": "stdout"
        },
        {
          "output_type": "execute_result",
          "data": {
            "text/plain": [
              "Text(0.5, 1.0, 'Loss along epochs')"
            ]
          },
          "metadata": {
            "tags": []
          },
          "execution_count": 268
        },
        {
          "output_type": "display_data",
          "data": {
            "image/png": "[encoded data removed]",
            "text/plain": [
              "<Figure size 720x360 with 1 Axes>"
            ]
          },
          "metadata": {
            "tags": []
          }
        },
        {
          "output_type": "display_data",
          "data": {
            "image/png": "[encoded data removed]",
            "text/plain": [
              "<Figure size 720x360 with 1 Axes>"
            ]
          },
          "metadata": {
            "tags": []
          }
        }
      ]
    },
    {
      "cell_type": "code",
      "metadata": {
        "id": "YDJS7Q1J0iKA",
        "colab_type": "code",
        "colab": {}
      },
      "source": [
        "### Re-training on the whole available labeled dataset\n",
        "model = Sequential()\n",
        "model.add(Embedding(vocab_size, embed_dim, input_length=52))\n",
        "\n",
        "model.add(Bidirectional(LSTM(64, return_sequences = True)))\n",
        "model.add(Dropout(0.5))\n",
        "\n",
        "model.add(Conv1D(32, 3, activation='relu'))\n",
        "model.add(MaxPooling1D(2))\n",
        "model.add(Dropout(0.5))\n",
        "\n",
        "model.add(Flatten())\n",
        "model.add(Dense(n_classes, activation='softmax',\n",
        "                kernel_regularizer=tf.keras.regularizers.l2(0.01),\n",
        "                activity_regularizer=tf.keras.regularizers.l1(0.01)))\n",
        "\n",
        "model.compile(loss = loss_classif,\n",
        "                  optimizer = tf.keras.optimizers.Adam(lr_schedule),\n",
        "                  metrics = metrics_classif)\n",
        "\n",
        "\n",
        "# Fitting\n",
        "model.fit(np.concatenate((x_train_padded,x_dev_padded)), \n",
        "          np.concatenate((y_train_cat,y_dev_cat)), \n",
        "          batch_size=bs, \n",
        "          epochs=10, \n",
        "          verbose=0)\n",
        "\n",
        "with open(\"cnn_bilstm_y_test_sst.txt\",\"w+\") as f:\n",
        "    y_pred = np.argmax(model.predict(x_test_padded),1)\n",
        "    for y in y_pred:\n",
        "        f.write(str(y)+\"\\n\")"
      ],
      "execution_count": 0,
      "outputs": []
    }
  ]
}