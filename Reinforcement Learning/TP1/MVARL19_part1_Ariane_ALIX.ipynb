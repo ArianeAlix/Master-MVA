{
  "nbformat": 4,
  "nbformat_minor": 0,
  "metadata": {
    "kernelspec": {
      "name": "python3",
      "display_name": "Python 3"
    },
    "language_info": {
      "codemirror_mode": {
        "name": "ipython",
        "version": 3
      },
      "file_extension": ".py",
      "mimetype": "text/x-python",
      "name": "python",
      "nbconvert_exporter": "python",
      "pygments_lexer": "ipython3",
      "version": "3.6.8"
    },
    "colab": {
      "name": "MVARL19_part1_Ariane_ALIX.ipynb",
      "provenance": [],
      "collapsed_sections": []
    }
  },
  "cells": [
    {
      "cell_type": "markdown",
      "metadata": {
        "id": "4P3WM-hVOPfo",
        "colab_type": "text"
      },
      "source": [
        "# Reinforcement Learning in Finite MDPs"
      ]
    },
    {
      "cell_type": "code",
      "metadata": {
        "id": "E9_DLZvWQzhb",
        "colab_type": "code",
        "colab": {}
      },
      "source": [
        "!git clone https://github.com/rlgammazero/mvarl_hands_on.git > /dev/null 2>&1"
      ],
      "execution_count": 0,
      "outputs": []
    },
    {
      "cell_type": "markdown",
      "metadata": {
        "id": "wnzUJeyJOPfq",
        "colab_type": "text"
      },
      "source": [
        "## MDPs"
      ]
    },
    {
      "cell_type": "code",
      "metadata": {
        "id": "RcWJSw_uOPfr",
        "colab_type": "code",
        "colab": {}
      },
      "source": [
        "import sys\n",
        "sys.path.insert(0, './mvarl_hands_on/utils')\n",
        "import numpy as np\n",
        "from scipy.special import softmax # for SARSA\n",
        "import matplotlib.pyplot as plt\n",
        "import json\n",
        "import math\n",
        "from cliffwalk import CliffWalk\n",
        "from test_env import ToyEnv1"
      ],
      "execution_count": 0,
      "outputs": []
    },
    {
      "cell_type": "markdown",
      "metadata": {
        "id": "ym-B_4HaOPfu",
        "colab_type": "text"
      },
      "source": [
        "Setting up the environment"
      ]
    },
    {
      "cell_type": "code",
      "metadata": {
        "id": "rVR5qYoLOPfv",
        "colab_type": "code",
        "outputId": "82fc6bb8-ca9e-442b-8934-0e731585dbf0",
        "colab": {
          "base_uri": "https://localhost:8080/",
          "height": 340
        }
      },
      "source": [
        "env = CliffWalk(proba_succ=0.98)\n",
        "\n",
        "####################################################################################\n",
        "# You probably want to test smaller enviroments before\n",
        "#env = ToyEnv1(gamma=0.99)\n",
        "####################################################################################\n",
        "\n",
        "# Useful attributes\n",
        "print(\"Set of states:\", env.states)\n",
        "print(\"Set of actions:\", env.actions)\n",
        "print(\"Number of states: \", env.Ns)\n",
        "print(\"Number of actions: \", env.Na)\n",
        "print(\"P has shape: \", env.P.shape)  # P[s, a, s'] = env.P[s, a, s']\n",
        "print(\"discount factor: \", env.gamma)\n",
        "print(\"\")\n",
        "\n",
        "# Usefult methods\n",
        "state = env.reset() # get initial state\n",
        "print(\"initial state: \", state)\n",
        "print(\"reward at (s=1, a=3,s'=2): \", env.reward_func(1,3,2))\n",
        "print(\"\")\n",
        "\n",
        "# A random policy\n",
        "policy = np.random.randint(env.Na, size = (env.Ns,))\n",
        "print(\"random policy = \", policy)\n",
        "\n",
        "# Interacting with the environment\n",
        "print(\"(s, a, s', r):\")\n",
        "for time in range(4):\n",
        "    action = policy[state]\n",
        "    next_state, reward, done, info = env.step(action)\n",
        "    print(state, action, next_state, reward)\n",
        "    if done:\n",
        "        break\n",
        "    state = next_state\n",
        "print(\"\")\n",
        "print(env.R.shape)"
      ],
      "execution_count": 0,
      "outputs": [
        {
          "output_type": "stream",
          "text": [
            "Set of states: range(0, 48)\n",
            "Set of actions: [0, 1, 2, 3]\n",
            "Number of states:  48\n",
            "Number of actions:  4\n",
            "P has shape:  (48, 4, 48)\n",
            "discount factor:  0.99\n",
            "\n",
            "initial state:  36\n",
            "reward at (s=1, a=3,s'=2):  0.6\n",
            "\n",
            "random policy =  [0 3 2 2 1 0 0 1 0 0 2 2 1 3 2 2 1 1 1 1 3 1 3 3 1 3 1 2 3 3 3 0 3 1 0 0 1\n",
            " 1 1 0 0 1 1 2 2 2 0 3]\n",
            "(s, a, s', r):\n",
            "36 1 36 0.6\n",
            "36 1 36 0.6\n",
            "36 1 36 0.6\n",
            "36 1 36 0.6\n",
            "\n",
            "(48, 4, 48)\n"
          ],
          "name": "stdout"
        }
      ]
    },
    {
      "cell_type": "markdown",
      "metadata": {
        "id": "AUlNvT3cOPfx",
        "colab_type": "text"
      },
      "source": [
        "## Question 1: Value iteration\n",
        "1. Write a function applying the optimal Bellman operator on a provided Q function: $Q_1 = LQ_0, \\; Q_0\\in \\mathbb{R}^{S\\times A}$\n",
        "\n",
        "The function should return $Q_1$ such that :\n",
        "$$Q_1(s,a) =\\sum_{s'} p(s'|s,a)(r(s,a,s') + \\gamma \\max_a Q_0(s,a))$$"
      ]
    },
    {
      "cell_type": "code",
      "metadata": {
        "id": "R8TLRx6MOPfy",
        "colab_type": "code",
        "colab": {}
      },
      "source": [
        "# --------------\n",
        "# Point 1\n",
        "# --------------\n",
        "def bellman_operator(Q0, Ns, Na, R, P, gamma):\n",
        "    # p*r part\n",
        "    reward = np.sum(env.R * env.P,axis=2)\n",
        "\n",
        "    # p*max_a(Q) part\n",
        "    future_reward= np.zeros((Ns,Na))\n",
        "    for s in range(Ns):\n",
        "        for a in range(Na):\n",
        "            for next_s in range(Ns):\n",
        "                future_reward[s,a]+=P[s,a,next_s]*np.max(Q0[next_s])\n",
        "                \n",
        "    Q1=reward + gamma * future_reward\n",
        "    #the greedy policy is the policy giving the best reward\n",
        "    greedy_policy=np.argmax(Q1,axis=1)\n",
        "    \n",
        "    return Q1, greedy_policy"
      ],
      "execution_count": 0,
      "outputs": []
    },
    {
      "cell_type": "markdown",
      "metadata": {
        "id": "ecpUEd9nwtCv",
        "colab_type": "text"
      },
      "source": [
        "2. Write a function implementing Value Iteration (VI) with $\\infty$-norm stopping condition (reuse function implemented in 1)\n",
        "\n",
        "We use a stopping condition of the $\\infty$-norm applied to the difference in $Q$ between two consecutive steps (since we are not supposed to know $Q^*$ in advance) :\n",
        "$$ \\| Q_{n+1} - Q_{n}  \\|_{\\infty} = \\max_{s,a} |Q_{n+1}(s,a) - Q_n(s,a)|$$"
      ]
    },
    {
      "cell_type": "code",
      "metadata": {
        "id": "jj65cQk5OPf0",
        "colab_type": "code",
        "colab": {}
      },
      "source": [
        "# --------------\n",
        "# Point 2\n",
        "# --------------\n",
        "def value_iteration(Q0, env, epsilon=1e-5):\n",
        "    condition=1\n",
        "    Q=Q0\n",
        "    Q_history=[Q]\n",
        "\n",
        "    # We iterate unitl the condition is met\n",
        "    while condition>=epsilon:\n",
        "        Q1,_=bellman_operator(Q,env.Ns,env.Na,env.R,env.P,env.gamma)\n",
        "        Q_history.append(Q)\n",
        "        condition = np.max(abs(Q1-Q)) #we stop when two succesive Q are close w.r.t the infinity-norm\n",
        "        Q=Q1\n",
        "\n",
        "    greedy_policy=np.argmax(Q,axis=1)\n",
        "    \n",
        "    return Q, greedy_policy, Q_history"
      ],
      "execution_count": 0,
      "outputs": []
    },
    {
      "cell_type": "markdown",
      "metadata": {
        "id": "jCljgLSDwum6",
        "colab_type": "text"
      },
      "source": [
        "3. Evaluate the convergence of your estimate, i.e., plot the value $\\|Q_n - Q^\\star\\|_{\\infty} = \\max_{s,a} |Q_n(s,a) - Q^\\star(s,a)|$"
      ]
    },
    {
      "cell_type": "code",
      "metadata": {
        "id": "W_lBe6q6OPf2",
        "colab_type": "code",
        "outputId": "82aee74c-66a0-4e68-d81f-e072cee355fe",
        "colab": {
          "base_uri": "https://localhost:8080/",
          "height": 312
        }
      },
      "source": [
        "# --------------\n",
        "# Point 3\n",
        "# --------------\n",
        "with open(\"./mvarl_hands_on/data/Q_opts.json\", \"r\") as fp:\n",
        "    Qopts = json.load(fp)\n",
        "Qstar = Qopts[\"{}_{}\".format(type(env).__name__,env.gamma)]\n",
        "\n",
        "# We initialize with an array of zeros with the same shape as the other Qs\n",
        "Q_init=np.zeros(np.array(Qstar).shape)\n",
        "\n",
        "Q, greedy_policy, Q_history = value_iteration(Q_init,env)\n",
        "\n",
        "# Values of max_s,a |Q_n(s,a) - Qstar(s,a)| evolving with the iterations\n",
        "norm_values=np.max(abs(Q_history-np.array(Qstar)),axis=2)\n",
        "\n",
        "plt.plot(norm_values)\n",
        "plt.xlabel('Iteration')\n",
        "plt.ylabel('Error')\n",
        "plt.title(\"Q-learning: Convergence of Q\")"
      ],
      "execution_count": 0,
      "outputs": [
        {
          "output_type": "execute_result",
          "data": {
            "text/plain": [
              "Text(0.5, 1.0, 'Q-learning: Convergence of Q')"
            ]
          },
          "metadata": {
            "tags": []
          },
          "execution_count": 37
        },
        {
          "output_type": "display_data",
          "data": {
            "image/png": "[encoded data removed]",
            "text/plain": [
              "<Figure size 432x288 with 1 Axes>"
            ]
          },
          "metadata": {
            "tags": []
          }
        }
      ]
    },
    {
      "cell_type": "markdown",
      "metadata": {
        "id": "d7wbCXH0ZQwj",
        "colab_type": "text"
      },
      "source": [
        "#### Observing the evolution of the states in the environment"
      ]
    },
    {
      "cell_type": "code",
      "metadata": {
        "id": "FbzFs3tDvcJy",
        "colab_type": "code",
        "outputId": "ddbc3c92-74ac-4352-c3d3-68471ccb5e09",
        "colab": {
          "base_uri": "https://localhost:8080/",
          "height": 1000
        }
      },
      "source": [
        "state = env.reset()\n",
        "env.render()\n",
        "for i in range(50):\n",
        "    action = greedy_policy[state]\n",
        "    state, reward, done, _ = env.step(action)\n",
        "    env.render()"
      ],
      "execution_count": 0,
      "outputs": [
        {
          "output_type": "stream",
          "text": [
            "+-----------------------+\n",
            "| : : : : : : : : : : : |\n",
            "| : : : : : : : : : : : |\n",
            "| : : : : : : : : : : : |\n",
            "|\u001b[43mS\u001b[0m:x:x:x:x:x:x:x:x:x:x:G|\n",
            "+-----------------------+\n",
            "\n",
            "+-----------------------+\n",
            "| : : : : : : : : : : : |\n",
            "| : : : : : : : : : : : |\n",
            "|\u001b[43m_\u001b[0m: : : : : : : : : : : |\n",
            "|S:x:x:x:x:x:x:x:x:x:x:G|\n",
            "+-----------------------+\n",
            "  (up)\n",
            "+-----------------------+\n",
            "| : : : : : : : : : : : |\n",
            "| : : : : : : : : : : : |\n",
            "| :\u001b[43m_\u001b[0m: : : : : : : : : : |\n",
            "|S:x:x:x:x:x:x:x:x:x:x:G|\n",
            "+-----------------------+\n",
            "  (right)\n",
            "+-----------------------+\n",
            "| : : : : : : : : : : : |\n",
            "| : : : : : : : : : : : |\n",
            "| : :\u001b[43m_\u001b[0m: : : : : : : : : |\n",
            "|S:x:x:x:x:x:x:x:x:x:x:G|\n",
            "+-----------------------+\n",
            "  (right)\n",
            "+-----------------------+\n",
            "| : : : : : : : : : : : |\n",
            "| : : : : : : : : : : : |\n",
            "| : : :\u001b[43m_\u001b[0m: : : : : : : : |\n",
            "|S:x:x:x:x:x:x:x:x:x:x:G|\n",
            "+-----------------------+\n",
            "  (right)\n",
            "+-----------------------+\n",
            "| : : : : : : : : : : : |\n",
            "| : : : : : : : : : : : |\n",
            "| : : : :\u001b[43m_\u001b[0m: : : : : : : |\n",
            "|S:x:x:x:x:x:x:x:x:x:x:G|\n",
            "+-----------------------+\n",
            "  (right)\n",
            "+-----------------------+\n",
            "| : : : : : : : : : : : |\n",
            "| : : : : : : : : : : : |\n",
            "| : : : : :\u001b[43m_\u001b[0m: : : : : : |\n",
            "|S:x:x:x:x:x:x:x:x:x:x:G|\n",
            "+-----------------------+\n",
            "  (right)\n",
            "+-----------------------+\n",
            "| : : : : : : : : : : : |\n",
            "| : : : : : : : : : : : |\n",
            "| : : : : : :\u001b[43m_\u001b[0m: : : : : |\n",
            "|S:x:x:x:x:x:x:x:x:x:x:G|\n",
            "+-----------------------+\n",
            "  (right)\n",
            "+-----------------------+\n",
            "| : : : : : : : : : : : |\n",
            "| : : : : : : : : : : : |\n",
            "| : : : : : : :\u001b[43m_\u001b[0m: : : : |\n",
            "|S:x:x:x:x:x:x:x:x:x:x:G|\n",
            "+-----------------------+\n",
            "  (right)\n",
            "+-----------------------+\n",
            "| : : : : : : : : : : : |\n",
            "| : : : : : : : : : : : |\n",
            "| : : : : : : : :\u001b[43m_\u001b[0m: : : |\n",
            "|S:x:x:x:x:x:x:x:x:x:x:G|\n",
            "+-----------------------+\n",
            "  (right)\n",
            "+-----------------------+\n",
            "| : : : : : : : : : : : |\n",
            "| : : : : : : : : : : : |\n",
            "| : : : : : : : : :\u001b[43m_\u001b[0m: : |\n",
            "|S:x:x:x:x:x:x:x:x:x:x:G|\n",
            "+-----------------------+\n",
            "  (right)\n",
            "+-----------------------+\n",
            "| : : : : : : : : : : : |\n",
            "| : : : : : : : : : : : |\n",
            "| : : : : : : : : : :\u001b[43m_\u001b[0m: |\n",
            "|S:x:x:x:x:x:x:x:x:x:x:G|\n",
            "+-----------------------+\n",
            "  (right)\n",
            "+-----------------------+\n",
            "| : : : : : : : : : : : |\n",
            "| : : : : : : : : : : : |\n",
            "| : : : : : : : : : : :\u001b[43m_\u001b[0m|\n",
            "|S:x:x:x:x:x:x:x:x:x:x:G|\n",
            "+-----------------------+\n",
            "  (right)\n",
            "+-----------------------+\n",
            "| : : : : : : : : : : : |\n",
            "| : : : : : : : : : : :\u001b[43m_\u001b[0m|\n",
            "| : : : : : : : : : : : |\n",
            "|S:x:x:x:x:x:x:x:x:x:x:G|\n",
            "+-----------------------+\n",
            "  (down)\n",
            "+-----------------------+\n",
            "| : : : : : : : : : : : |\n",
            "| : : : : : : : : : : : |\n",
            "| : : : : : : : : : : :\u001b[43m_\u001b[0m|\n",
            "|S:x:x:x:x:x:x:x:x:x:x:G|\n",
            "+-----------------------+\n",
            "  (down)\n",
            "+-----------------------+\n",
            "| : : : : : : : : : : : |\n",
            "| : : : : : : : : : : : |\n",
            "| : : : : : : : : : : : |\n",
            "|S:x:x:x:x:x:x:x:x:x:x:\u001b[42mG\u001b[0m|\n",
            "+-----------------------+\n",
            "  (down)\n",
            "+-----------------------+\n",
            "| : : : : : : : : : : : |\n",
            "| : : : : : : : : : : : |\n",
            "| : : : : : : : : : : : |\n",
            "|\u001b[43mS\u001b[0m:x:x:x:x:x:x:x:x:x:x:G|\n",
            "+-----------------------+\n",
            "  (right)\n",
            "+-----------------------+\n",
            "| : : : : : : : : : : : |\n",
            "| : : : : : : : : : : : |\n",
            "|\u001b[43m_\u001b[0m: : : : : : : : : : : |\n",
            "|S:x:x:x:x:x:x:x:x:x:x:G|\n",
            "+-----------------------+\n",
            "  (up)\n",
            "+-----------------------+\n",
            "| : : : : : : : : : : : |\n",
            "| : : : : : : : : : : : |\n",
            "| :\u001b[43m_\u001b[0m: : : : : : : : : : |\n",
            "|S:x:x:x:x:x:x:x:x:x:x:G|\n",
            "+-----------------------+\n",
            "  (right)\n",
            "+-----------------------+\n",
            "| : : : : : : : : : : : |\n",
            "| : : : : : : : : : : : |\n",
            "| : :\u001b[43m_\u001b[0m: : : : : : : : : |\n",
            "|S:x:x:x:x:x:x:x:x:x:x:G|\n",
            "+-----------------------+\n",
            "  (right)\n",
            "+-----------------------+\n",
            "| : : : : : : : : : : : |\n",
            "| : : : : : : : : : : : |\n",
            "| : : :\u001b[43m_\u001b[0m: : : : : : : : |\n",
            "|S:x:x:x:x:x:x:x:x:x:x:G|\n",
            "+-----------------------+\n",
            "  (right)\n",
            "+-----------------------+\n",
            "| : : : : : : : : : : : |\n",
            "| : : : : : : : : : : : |\n",
            "| : : : :\u001b[43m_\u001b[0m: : : : : : : |\n",
            "|S:x:x:x:x:x:x:x:x:x:x:G|\n",
            "+-----------------------+\n",
            "  (right)\n",
            "+-----------------------+\n",
            "| : : : : : : : : : : : |\n",
            "| : : : : : : : : : : : |\n",
            "| : : : : :\u001b[43m_\u001b[0m: : : : : : |\n",
            "|S:x:x:x:x:x:x:x:x:x:x:G|\n",
            "+-----------------------+\n",
            "  (right)\n",
            "+-----------------------+\n",
            "| : : : : : : : : : : : |\n",
            "| : : : : : : : : : : : |\n",
            "| : : : : : :\u001b[43m_\u001b[0m: : : : : |\n",
            "|S:x:x:x:x:x:x:x:x:x:x:G|\n",
            "+-----------------------+\n",
            "  (right)\n",
            "+-----------------------+\n",
            "| : : : : : : : : : : : |\n",
            "| : : : : : : : : : : : |\n",
            "| : : : : : : :\u001b[43m_\u001b[0m: : : : |\n",
            "|S:x:x:x:x:x:x:x:x:x:x:G|\n",
            "+-----------------------+\n",
            "  (right)\n",
            "+-----------------------+\n",
            "| : : : : : : : : : : : |\n",
            "| : : : : : : : : : : : |\n",
            "| : : : : : : : :\u001b[43m_\u001b[0m: : : |\n",
            "|S:x:x:x:x:x:x:x:x:x:x:G|\n",
            "+-----------------------+\n",
            "  (right)\n",
            "+-----------------------+\n",
            "| : : : : : : : : : : : |\n",
            "| : : : : : : : : : : : |\n",
            "| : : : : : : : : :\u001b[43m_\u001b[0m: : |\n",
            "|S:x:x:x:x:x:x:x:x:x:x:G|\n",
            "+-----------------------+\n",
            "  (right)\n",
            "+-----------------------+\n",
            "| : : : : : : : : : : : |\n",
            "| : : : : : : : : : : : |\n",
            "| : : : : : : : : : :\u001b[43m_\u001b[0m: |\n",
            "|S:x:x:x:x:x:x:x:x:x:x:G|\n",
            "+-----------------------+\n",
            "  (right)\n",
            "+-----------------------+\n",
            "| : : : : : : : : : : : |\n",
            "| : : : : : : : : : : : |\n",
            "| : : : : : : : : : : :\u001b[43m_\u001b[0m|\n",
            "|S:x:x:x:x:x:x:x:x:x:x:G|\n",
            "+-----------------------+\n",
            "  (right)\n",
            "+-----------------------+\n",
            "| : : : : : : : : : : : |\n",
            "| : : : : : : : : : : : |\n",
            "| : : : : : : : : : : : |\n",
            "|S:x:x:x:x:x:x:x:x:x:x:\u001b[42mG\u001b[0m|\n",
            "+-----------------------+\n",
            "  (down)\n",
            "+-----------------------+\n",
            "| : : : : : : : : : : : |\n",
            "| : : : : : : : : : : : |\n",
            "| : : : : : : : : : : : |\n",
            "|\u001b[43mS\u001b[0m:x:x:x:x:x:x:x:x:x:x:G|\n",
            "+-----------------------+\n",
            "  (right)\n",
            "+-----------------------+\n",
            "| : : : : : : : : : : : |\n",
            "| : : : : : : : : : : : |\n",
            "|\u001b[43m_\u001b[0m: : : : : : : : : : : |\n",
            "|S:x:x:x:x:x:x:x:x:x:x:G|\n",
            "+-----------------------+\n",
            "  (up)\n",
            "+-----------------------+\n",
            "| : : : : : : : : : : : |\n",
            "|\u001b[43m_\u001b[0m: : : : : : : : : : : |\n",
            "| : : : : : : : : : : : |\n",
            "|S:x:x:x:x:x:x:x:x:x:x:G|\n",
            "+-----------------------+\n",
            "  (right)\n",
            "+-----------------------+\n",
            "| : : : : : : : : : : : |\n",
            "| :\u001b[43m_\u001b[0m: : : : : : : : : : |\n",
            "| : : : : : : : : : : : |\n",
            "|S:x:x:x:x:x:x:x:x:x:x:G|\n",
            "+-----------------------+\n",
            "  (right)\n",
            "+-----------------------+\n",
            "| : : : : : : : : : : : |\n",
            "| : :\u001b[43m_\u001b[0m: : : : : : : : : |\n",
            "| : : : : : : : : : : : |\n",
            "|S:x:x:x:x:x:x:x:x:x:x:G|\n",
            "+-----------------------+\n",
            "  (right)\n",
            "+-----------------------+\n",
            "| : : : : : : : : : : : |\n",
            "| : : :\u001b[43m_\u001b[0m: : : : : : : : |\n",
            "| : : : : : : : : : : : |\n",
            "|S:x:x:x:x:x:x:x:x:x:x:G|\n",
            "+-----------------------+\n",
            "  (right)\n",
            "+-----------------------+\n",
            "| : : : : : : : : : : : |\n",
            "| : : : :\u001b[43m_\u001b[0m: : : : : : : |\n",
            "| : : : : : : : : : : : |\n",
            "|S:x:x:x:x:x:x:x:x:x:x:G|\n",
            "+-----------------------+\n",
            "  (right)\n",
            "+-----------------------+\n",
            "| : : : : : : : : : : : |\n",
            "| : : : : :\u001b[43m_\u001b[0m: : : : : : |\n",
            "| : : : : : : : : : : : |\n",
            "|S:x:x:x:x:x:x:x:x:x:x:G|\n",
            "+-----------------------+\n",
            "  (right)\n",
            "+-----------------------+\n",
            "| : : : : : : : : : : : |\n",
            "| : : : : : :\u001b[43m_\u001b[0m: : : : : |\n",
            "| : : : : : : : : : : : |\n",
            "|S:x:x:x:x:x:x:x:x:x:x:G|\n",
            "+-----------------------+\n",
            "  (right)\n",
            "+-----------------------+\n",
            "| : : : : : : : : : : : |\n",
            "| : : : : : : :\u001b[43m_\u001b[0m: : : : |\n",
            "| : : : : : : : : : : : |\n",
            "|S:x:x:x:x:x:x:x:x:x:x:G|\n",
            "+-----------------------+\n",
            "  (right)\n",
            "+-----------------------+\n",
            "| : : : : : : : : : : : |\n",
            "| : : : : : : : :\u001b[43m_\u001b[0m: : : |\n",
            "| : : : : : : : : : : : |\n",
            "|S:x:x:x:x:x:x:x:x:x:x:G|\n",
            "+-----------------------+\n",
            "  (right)\n",
            "+-----------------------+\n",
            "| : : : : : : : : : : : |\n",
            "| : : : : : : : : :\u001b[43m_\u001b[0m: : |\n",
            "| : : : : : : : : : : : |\n",
            "|S:x:x:x:x:x:x:x:x:x:x:G|\n",
            "+-----------------------+\n",
            "  (right)\n",
            "+-----------------------+\n",
            "| : : : : : : : : : : : |\n",
            "| : : : : : : : : : :\u001b[43m_\u001b[0m: |\n",
            "| : : : : : : : : : : : |\n",
            "|S:x:x:x:x:x:x:x:x:x:x:G|\n",
            "+-----------------------+\n",
            "  (right)\n",
            "+-----------------------+\n",
            "| : : : : : : : : : : : |\n",
            "| : : : : : : : : : : :\u001b[43m_\u001b[0m|\n",
            "| : : : : : : : : : : : |\n",
            "|S:x:x:x:x:x:x:x:x:x:x:G|\n",
            "+-----------------------+\n",
            "  (right)\n",
            "+-----------------------+\n",
            "| : : : : : : : : : : : |\n",
            "| : : : : : : : : : : : |\n",
            "| : : : : : : : : : : :\u001b[43m_\u001b[0m|\n",
            "|S:x:x:x:x:x:x:x:x:x:x:G|\n",
            "+-----------------------+\n",
            "  (down)\n",
            "+-----------------------+\n",
            "| : : : : : : : : : : : |\n",
            "| : : : : : : : : : : : |\n",
            "| : : : : : : : : : : : |\n",
            "|S:x:x:x:x:x:x:x:x:x:x:\u001b[42mG\u001b[0m|\n",
            "+-----------------------+\n",
            "  (down)\n",
            "+-----------------------+\n",
            "| : : : : : : : : : : : |\n",
            "| : : : : : : : : : : : |\n",
            "| : : : : : : : : : : : |\n",
            "|\u001b[43mS\u001b[0m:x:x:x:x:x:x:x:x:x:x:G|\n",
            "+-----------------------+\n",
            "  (right)\n",
            "+-----------------------+\n",
            "| : : : : : : : : : : : |\n",
            "| : : : : : : : : : : : |\n",
            "|\u001b[43m_\u001b[0m: : : : : : : : : : : |\n",
            "|S:x:x:x:x:x:x:x:x:x:x:G|\n",
            "+-----------------------+\n",
            "  (up)\n",
            "+-----------------------+\n",
            "| : : : : : : : : : : : |\n",
            "| : : : : : : : : : : : |\n",
            "| :\u001b[43m_\u001b[0m: : : : : : : : : : |\n",
            "|S:x:x:x:x:x:x:x:x:x:x:G|\n",
            "+-----------------------+\n",
            "  (right)\n",
            "+-----------------------+\n",
            "| : : : : : : : : : : : |\n",
            "| : : : : : : : : : : : |\n",
            "| : :\u001b[43m_\u001b[0m: : : : : : : : : |\n",
            "|S:x:x:x:x:x:x:x:x:x:x:G|\n",
            "+-----------------------+\n",
            "  (right)\n",
            "+-----------------------+\n",
            "| : : : : : : : : : : : |\n",
            "| : : : : : : : : : : : |\n",
            "| : : :\u001b[43m_\u001b[0m: : : : : : : : |\n",
            "|S:x:x:x:x:x:x:x:x:x:x:G|\n",
            "+-----------------------+\n",
            "  (right)\n"
          ],
          "name": "stdout"
        }
      ]
    },
    {
      "cell_type": "markdown",
      "metadata": {
        "id": "azfXmRzZOPf4",
        "colab_type": "text"
      },
      "source": [
        "## Question 2: Q learning\n",
        "Q learning is a model-free algorithm for estimating the optimal Q-function online.\n",
        "It is an off-policy algorithm since the samples are collected with a policy that is (potentially) not the one associated to the estimated Q-function.\n",
        "\n",
        "1. Implement Q learning with $\\epsilon$-greedy exploration.\n",
        "  - Plot the error in Q-functions over iterations\n",
        "  - Plot the sum of rewards as a function of iteration\n",
        "\n",
        "\n",
        "$\\epsilon$-greedy policy:\n",
        "$$\n",
        "\\pi(s) = \\begin{cases}\n",
        "\\max_a Q(s,a) & \\text{w.p.} \\epsilon\\\\\n",
        "\\text{random action} & \\text{w.p.} 1- \\epsilon\n",
        "\\end{cases}\n",
        "$$"
      ]
    },
    {
      "cell_type": "markdown",
      "metadata": {
        "id": "1m0_5_51K8H9",
        "colab_type": "text"
      },
      "source": [
        "#### Defining the Learner\n",
        "\n",
        "**\\_\\_init\\_\\_** initializes :\n",
        "- the first $Q$ table, passed as argument,\n",
        "- the environment, passed as argument,\n",
        "- the $\\epsilon$ used for the exploration passed as arguments,\n",
        "- a table counting the number of visits for each state/action $(s,a)$, that will be used to compute a learning rate $\\alpha$ each time we update $Q$.\n",
        "\n",
        "**sample_action** : generates an action following the $\\epsilon$-greedy policy.\n",
        "\n",
        "**update** : updates $Q$ with the formula :\n",
        "$$ Q[s,a] = (1-\\alpha_t)Q[s,a] + \\alpha_t(r_t + \\gamma \\max_a' Q[s',a']) $$\n",
        "\n",
        "Where $r_t$ is the reward and $\\alpha_t$ is the learning rate (defined as how much you accept the new value vs the old value) depending on $(s,a)$ by $\\alpha_t = \\frac{1}{\\sqrt{N_t(s,a)}}$with $N_t$ the number of visits in $(s,a)$ at time $t$."
      ]
    },
    {
      "cell_type": "code",
      "metadata": {
        "id": "_t3WqIt-OPf5",
        "colab_type": "code",
        "colab": {}
      },
      "source": [
        "# ---------------------------\n",
        "# Q-Learning\n",
        "# ---------------------------\n",
        "# suggested interface\n",
        "# you can change it!\n",
        "class QLearning:\n",
        "    \"\"\"\n",
        "    Q learning with epsilon-greedy exploration\n",
        "    \"\"\"\n",
        "    def __init__(self,Q_init,env,epsilon):\n",
        "        self.Q=Q_init # first value for Q\n",
        "        self.env=env # environnement \n",
        "        self.epsilon=epsilon # epsilon for the epsilon-greedy exploration\n",
        "        self.nb_visits=np.zeros((env.Ns, env.Na)) #store the nb of visits per (s,a)\n",
        "        pass\n",
        "    \n",
        "    def sample_action(self,state):\n",
        "        #choosing a random action following the epsilon-law\n",
        "        random_action=np.random.uniform(0, 1)\n",
        "\n",
        "        if random_action <= self.epsilon:\n",
        "            next_action=np.argmax(self.Q[state,:])#greedy decision\n",
        "        else:\n",
        "            next_action=np.random.randint(0, self.env.Na )\n",
        "        return next_action\n",
        "    \n",
        "    def update(self, state, action, next_state, reward):\n",
        "        self.nb_visits[state,action]+=1 # update the nb of visits in the (s,a)\n",
        "\n",
        "        alpha=1/np.sqrt(self.nb_visits[state,action]) # learning rate depending on (s,a)\n",
        "\n",
        "        #updating Q\n",
        "        delta=(reward + self.env.gamma * np.max(self.Q[next_state, :]) - self.Q[state, action])\n",
        "       \n",
        "        self.Q[state, action] = self.Q[state, action] + delta * alpha\n",
        "        \n",
        "        pass\n",
        "    "
      ],
      "execution_count": 0,
      "outputs": []
    },
    {
      "cell_type": "markdown",
      "metadata": {
        "id": "hseCtE7BKzwd",
        "colab_type": "text"
      },
      "source": [
        "#### Compute actual optimal values with previous code\n"
      ]
    },
    {
      "cell_type": "code",
      "metadata": {
        "id": "CKTc5nWIOPf6",
        "colab_type": "code",
        "colab": {}
      },
      "source": [
        "# --------------\n",
        "# Point 1\n",
        "# --------------\n",
        "\n",
        "Q0 = np.zeros((env.Ns, env.Na))\n",
        "# Use the previous code to verify the correctness of q learning\n",
        "Q_opt, pi_opt,_ = value_iteration(Q0, env, epsilon=1e-8)\n"
      ],
      "execution_count": 0,
      "outputs": []
    },
    {
      "cell_type": "markdown",
      "metadata": {
        "id": "VU8QRoxtKqig",
        "colab_type": "text"
      },
      "source": [
        "#### Setting the number of steps"
      ]
    },
    {
      "cell_type": "code",
      "metadata": {
        "id": "uwQhRkFMKpNR",
        "colab_type": "code",
        "colab": {}
      },
      "source": [
        "# Number of Q learning steps\n",
        "max_steps = int(1e6)  \n",
        "# max_steps = 10"
      ],
      "execution_count": 0,
      "outputs": []
    },
    {
      "cell_type": "markdown",
      "metadata": {
        "id": "adTohNN-KvuU",
        "colab_type": "text"
      },
      "source": [
        "### Main algorithmic loop"
      ]
    },
    {
      "cell_type": "code",
      "metadata": {
        "id": "AYDBB4Z_KjlM",
        "colab_type": "code",
        "outputId": "cff73686-763b-4cd1-d6f6-4d58d774e64b",
        "colab": {
          "base_uri": "https://localhost:8080/",
          "height": 794
        }
      },
      "source": [
        "# Initialization\n",
        "Q0 = np.zeros((env.Ns, env.Na))\n",
        "\n",
        "ql=QLearning(Q0,env,epsilon=0.5)\n",
        "norm_values = []\n",
        "rewards = []\n",
        "\n",
        "t = 0\n",
        "state = env.reset()\n",
        "\n",
        "# Loop until we reach the number of steps\n",
        "while t < max_steps:\n",
        "  \n",
        "    action = ql.sample_action(state)# Choosing the action following the exploratory law\n",
        "\n",
        "    observation, reward, done, info = env.step(action)# Take the action\n",
        "\n",
        "    # Update the tables for the curves to plot\n",
        "    norm_values.append(np.abs(ql.Q - Q_opt).mean())\n",
        "    rewards.append(reward*(env.gamma**t))\n",
        "    \n",
        "    ql.update(state,action,observation,reward) # Update Q (t taken into account to update alpha)\n",
        "    state = observation # Update the state\n",
        "\n",
        "    t = t + 1\n",
        "    \n",
        "cum_rewards=np.cumsum(rewards)\n",
        "\n",
        "print(env.render())\n",
        "print(\"optimal policy: \", pi_opt)\n",
        "greedy_policy = np.argmax(ql.Q, axis=1)\n",
        "print(\"est policy:\", greedy_policy)\n",
        "\n",
        "\n",
        "plt.plot(norm_values)\n",
        "plt.xlabel('Iteration')\n",
        "plt.ylabel('Error')\n",
        "plt.title(\"Q-learning: Convergence of Q\")\n",
        "plt.show()\n",
        "\n",
        "plt.plot(cum_rewards)\n",
        "plt.xlabel('Iteration')\n",
        "plt.ylabel('Cumulative reward')\n",
        "plt.title(\"Evolution of the cumulative reward\")\n",
        "plt.axes\n",
        "\n",
        "# how confident are you in the performance of the algorithm? maybe a single run is not enough"
      ],
      "execution_count": 0,
      "outputs": [
        {
          "output_type": "stream",
          "text": [
            "+-----------------------+\n",
            "| : : : : : : : : : : : |\n",
            "| : : : : : : : : :\u001b[43m_\u001b[0m: : |\n",
            "| : : : : : : : : : : : |\n",
            "|S:x:x:x:x:x:x:x:x:x:x:G|\n",
            "+-----------------------+\n",
            "  (down)\n",
            "None\n",
            "optimal policy:  [0 0 0 0 0 0 0 0 0 0 0 1 0 0 0 0 0 0 0 0 0 0 0 1 0 0 0 0 0 0 0 0 0 0 0 1 3\n",
            " 3 3 3 3 3 3 3 3 3 0 0]\n",
            "est policy: [0 1 1 1 0 1 1 1 0 1 1 1 0 0 0 1 0 0 0 0 0 0 0 1 0 0 0 0 0 0 0 0 0 0 0 1 3\n",
            " 3 3 3 3 3 3 3 3 3 0 3]\n"
          ],
          "name": "stdout"
        },
        {
          "output_type": "display_data",
          "data": {
            "image/png": "[encoded data removed]",
            "text/plain": [
              "<Figure size 432x288 with 1 Axes>"
            ]
          },
          "metadata": {
            "tags": []
          }
        },
        {
          "output_type": "execute_result",
          "data": {
            "text/plain": [
              "<function matplotlib.pyplot.axes>"
            ]
          },
          "metadata": {
            "tags": []
          },
          "execution_count": 46
        },
        {
          "output_type": "display_data",
          "data": {
            "image/png": "[encoded data removed]",
            "text/plain": [
              "<Figure size 432x288 with 1 Axes>"
            ]
          },
          "metadata": {
            "tags": []
          }
        }
      ]
    },
    {
      "cell_type": "markdown",
      "metadata": {
        "id": "QocshInfWMPJ",
        "colab_type": "text"
      },
      "source": [
        "If we launch the algorithm several times with the same parameters, we obtain slightly different results each time that are not always equal to $Q_{opt}$ and $\\pi_{opt}$.\n",
        "\n",
        "However, they are always really good approximations, and, looking at the shape of the convergence curve, we might expect slightly better results when increasing the number of steps.\n"
      ]
    }
  ]
}