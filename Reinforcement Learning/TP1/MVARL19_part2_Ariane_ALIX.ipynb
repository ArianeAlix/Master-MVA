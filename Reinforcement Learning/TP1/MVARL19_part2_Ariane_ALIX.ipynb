{
  "nbformat": 4,
  "nbformat_minor": 0,
  "metadata": {
    "colab": {
      "name": "MVARL19_part2_Ariane_ALIX.ipynb",
      "provenance": [],
      "collapsed_sections": []
    },
    "kernelspec": {
      "name": "python3",
      "display_name": "Python 3"
    }
  },
  "cells": [
    {
      "cell_type": "markdown",
      "metadata": {
        "id": "XJ_s4_nhhiyo",
        "colab_type": "text"
      },
      "source": [
        "# Reinforcement Learning with Function Approximation"
      ]
    },
    {
      "cell_type": "code",
      "metadata": {
        "id": "WTOWkpoCiLmL",
        "colab_type": "code",
        "colab": {
          "base_uri": "https://localhost:8080/",
          "height": 1000
        },
        "outputId": "f209a8c9-5112-46bd-982f-675a48a26d92"
      },
      "source": [
        "!pip install torch==1.2.0 torchvision pyvirtualdisplay matplotlib seaborn pandas numpy pathlib gym\n",
        "!sudo apt-get install xvfb\n",
        "!git clone https://github.com/rlgammazero/mvarl_hands_on.git > /dev/null 2>&1\n",
        "!cd mvarl_hands_on && git pull origin master > /dev/null 2>&1"
      ],
      "execution_count": 5,
      "outputs": [
        {
          "output_type": "stream",
          "text": [
            "Collecting torch==1.2.0\n",
            "\u001b[?25l  Downloading https://files.pythonhosted.org/packages/30/57/d5cceb0799c06733eefce80c395459f28970ebb9e896846ce96ab579a3f1/torch-1.2.0-cp36-cp36m-manylinux1_x86_64.whl (748.8MB)\n",
            "\u001b[K     |████████████████████████████████| 748.9MB 19kB/s \n",
            "\u001b[?25hRequirement already satisfied: torchvision in /usr/local/lib/python3.6/dist-packages (0.4.2)\n",
            "Collecting pyvirtualdisplay\n",
            "  Downloading https://files.pythonhosted.org/packages/cf/ad/b15f252bfb0f1693ad3150b55a44a674f3cba711cacdbb9ae2f03f143d19/PyVirtualDisplay-0.2.4-py2.py3-none-any.whl\n",
            "Requirement already satisfied: matplotlib in /usr/local/lib/python3.6/dist-packages (3.1.1)\n",
            "Requirement already satisfied: seaborn in /usr/local/lib/python3.6/dist-packages (0.9.0)\n",
            "Requirement already satisfied: pandas in /usr/local/lib/python3.6/dist-packages (0.25.3)\n",
            "Requirement already satisfied: numpy in /usr/local/lib/python3.6/dist-packages (1.17.4)\n",
            "Requirement already satisfied: pathlib in /usr/local/lib/python3.6/dist-packages (1.0.1)\n",
            "Requirement already satisfied: gym in /usr/local/lib/python3.6/dist-packages (0.15.4)\n",
            "Requirement already satisfied: six in /usr/local/lib/python3.6/dist-packages (from torchvision) (1.12.0)\n",
            "Requirement already satisfied: pillow>=4.1.1 in /usr/local/lib/python3.6/dist-packages (from torchvision) (4.3.0)\n",
            "Collecting EasyProcess\n",
            "  Downloading https://files.pythonhosted.org/packages/fa/29/40040d1d64a224a5e44df9572794a66494618ffe5c77199214aeceedb8a7/EasyProcess-0.2.7-py2.py3-none-any.whl\n",
            "Requirement already satisfied: cycler>=0.10 in /usr/local/lib/python3.6/dist-packages (from matplotlib) (0.10.0)\n",
            "Requirement already satisfied: pyparsing!=2.0.4,!=2.1.2,!=2.1.6,>=2.0.1 in /usr/local/lib/python3.6/dist-packages (from matplotlib) (2.4.5)\n",
            "Requirement already satisfied: python-dateutil>=2.1 in /usr/local/lib/python3.6/dist-packages (from matplotlib) (2.6.1)\n",
            "Requirement already satisfied: kiwisolver>=1.0.1 in /usr/local/lib/python3.6/dist-packages (from matplotlib) (1.1.0)\n",
            "Requirement already satisfied: scipy>=0.14.0 in /usr/local/lib/python3.6/dist-packages (from seaborn) (1.3.2)\n",
            "Requirement already satisfied: pytz>=2017.2 in /usr/local/lib/python3.6/dist-packages (from pandas) (2018.9)\n",
            "Requirement already satisfied: opencv-python in /usr/local/lib/python3.6/dist-packages (from gym) (3.4.7.28)\n",
            "Requirement already satisfied: pyglet<=1.3.2,>=1.2.0 in /usr/local/lib/python3.6/dist-packages (from gym) (1.3.2)\n",
            "Requirement already satisfied: cloudpickle~=1.2.0 in /usr/local/lib/python3.6/dist-packages (from gym) (1.2.2)\n",
            "Requirement already satisfied: olefile in /usr/local/lib/python3.6/dist-packages (from pillow>=4.1.1->torchvision) (0.46)\n",
            "Requirement already satisfied: setuptools in /usr/local/lib/python3.6/dist-packages (from kiwisolver>=1.0.1->matplotlib) (41.6.0)\n",
            "Requirement already satisfied: future in /usr/local/lib/python3.6/dist-packages (from pyglet<=1.3.2,>=1.2.0->gym) (0.16.0)\n",
            "\u001b[31mERROR: torchvision 0.4.2 has requirement torch==1.3.1, but you'll have torch 1.2.0 which is incompatible.\u001b[0m\n",
            "Installing collected packages: torch, EasyProcess, pyvirtualdisplay\n",
            "  Found existing installation: torch 1.3.1\n",
            "    Uninstalling torch-1.3.1:\n",
            "      Successfully uninstalled torch-1.3.1\n",
            "Successfully installed EasyProcess-0.2.7 pyvirtualdisplay-0.2.4 torch-1.2.0\n",
            "Reading package lists... Done\n",
            "Building dependency tree       \n",
            "Reading state information... Done\n",
            "The following package was automatically installed and is no longer required:\n",
            "  libnvidia-common-430\n",
            "Use 'sudo apt autoremove' to remove it.\n",
            "The following NEW packages will be installed:\n",
            "  xvfb\n",
            "0 upgraded, 1 newly installed, 0 to remove and 32 not upgraded.\n",
            "Need to get 783 kB of archives.\n",
            "After this operation, 2,266 kB of additional disk space will be used.\n",
            "Get:1 http://archive.ubuntu.com/ubuntu bionic-updates/universe amd64 xvfb amd64 2:1.19.6-1ubuntu4.3 [783 kB]\n",
            "Fetched 783 kB in 1s (675 kB/s)\n",
            "debconf: unable to initialize frontend: Dialog\n",
            "debconf: (No usable dialog-like program is installed, so the dialog based frontend cannot be used. at /usr/share/perl5/Debconf/FrontEnd/Dialog.pm line 76, <> line 1.)\n",
            "debconf: falling back to frontend: Readline\n",
            "debconf: unable to initialize frontend: Readline\n",
            "debconf: (This frontend requires a controlling tty.)\n",
            "debconf: falling back to frontend: Teletype\n",
            "dpkg-preconfigure: unable to re-open stdin: \n",
            "Selecting previously unselected package xvfb.\n",
            "(Reading database ... 145605 files and directories currently installed.)\n",
            "Preparing to unpack .../xvfb_2%3a1.19.6-1ubuntu4.3_amd64.deb ...\n",
            "Unpacking xvfb (2:1.19.6-1ubuntu4.3) ...\n",
            "Setting up xvfb (2:1.19.6-1ubuntu4.3) ...\n",
            "Processing triggers for man-db (2.8.3-2ubuntu0.1) ...\n"
          ],
          "name": "stdout"
        }
      ]
    },
    {
      "cell_type": "markdown",
      "metadata": {
        "id": "c2jcVUJ2O4Gm",
        "colab_type": "text"
      },
      "source": [
        "**Path**, **Pandas**, **base64**, **itertools**, **seaborn**,**copy** and **math** were also imported to make the rest of the code work properly."
      ]
    },
    {
      "cell_type": "code",
      "metadata": {
        "id": "gCsyvh4NhjUc",
        "colab_type": "code",
        "colab": {
          "base_uri": "https://localhost:8080/",
          "height": 35
        },
        "outputId": "616b694e-96ff-43dc-e31d-9b7efb729fef"
      },
      "source": [
        "import torch\n",
        "import torch.nn as nn\n",
        "import torch.nn.functional as F \n",
        "from torch import optim\n",
        "\n",
        "import numpy as np\n",
        "\n",
        "import gym\n",
        "from gym.wrappers import Monitor\n",
        "from pprint import pprint\n",
        "from pyvirtualdisplay import Display\n",
        "from IPython import display as ipythondisplay\n",
        "from IPython.display import clear_output\n",
        "\n",
        "## Added\n",
        "import pandas as pd\n",
        "from pathlib import Path\n",
        "import base64\n",
        "import itertools \n",
        "import seaborn as sns\n",
        "import copy\n",
        "import math\n",
        "\n",
        "\n",
        "# The following code is will be used to visualize the environments.\n",
        "\n",
        "def show_video(directory):\n",
        "    html = []\n",
        "    for mp4 in Path(directory).glob(\"*.mp4\"):\n",
        "        video_b64 = base64.b64encode(mp4.read_bytes())\n",
        "        html.append('''<video alt=\"{}\" autoplay \n",
        "                      loop controls style=\"height: 400px;\">\n",
        "                      <source src=\"data:video/mp4;base64,{}\" type=\"video/mp4\" />\n",
        "                 </video>'''.format(mp4, video_b64.decode('ascii')))\n",
        "    ipythondisplay.display(ipythondisplay.HTML(data=\"<br>\".join(html)))\n",
        "    \n",
        "display = Display(visible=0, size=(1400, 900))\n",
        "display.start();\n",
        "\n",
        "def make_seed(seed):\n",
        "    np.random.seed(seed=seed)\n",
        "    torch.manual_seed(seed=seed)"
      ],
      "execution_count": 3,
      "outputs": [
        {
          "output_type": "stream",
          "text": [
            "xdpyinfo was not found, X start can not be checked! Please install xdpyinfo!\n"
          ],
          "name": "stderr"
        }
      ]
    },
    {
      "cell_type": "markdown",
      "metadata": {
        "id": "ThnSNaSMhnXa",
        "colab_type": "text"
      },
      "source": [
        "PyTorch is a Python package that provides two high-level features:\n",
        "- Tensor computation (like NumPy) with strong GPU acceleration\n",
        "- Deep neural networks built on a tape-based autograd system\n",
        "\n",
        "At a granular level, PyTorch is a library that consists of the following components:\n",
        "\n",
        "| Component | Description |\n",
        "| ---- | --- |\n",
        "| [**torch**](https://pytorch.org/docs/stable/torch.html) | a Tensor library like NumPy, with strong GPU support |\n",
        "| [**torch.autograd**](https://pytorch.org/docs/stable/autograd.html) | a tape-based automatic differentiation library that supports all differentiable Tensor operations in torch |\n",
        "| [**torch.jit**](https://pytorch.org/docs/stable/jit.html) | a compilation stack (TorchScript) to create serializable and optimizable models from PyTorch code  |\n",
        "| [**torch.nn**](https://pytorch.org/docs/stable/nn.html) | a neural networks library deeply integrated with autograd designed for maximum flexibility |\n",
        "| [**torch.multiprocessing**](https://pytorch.org/docs/stable/multiprocessing.html) | Python multiprocessing, but with magical memory sharing of torch Tensors across processes. Useful for data loading and Hogwild training |\n",
        "| [**torch.utils**](https://pytorch.org/docs/stable/data.html) | DataLoader and other utility functions for convenience |\n",
        "\n",
        "\n",
        "**Tutorials on PyTorch:** https://pytorch.org/tutorials/\n"
      ]
    },
    {
      "cell_type": "markdown",
      "metadata": {
        "id": "WlZQl9TjhuWY",
        "colab_type": "text"
      },
      "source": [
        "## OpenAI gym\n",
        "We will consider environments provided by OpenAI gym\n",
        "This library provides a large number of environments to test RL algorithm.\n",
        "\n",
        "We will focus on the **CartPole-v1** environment in this lab but we encourage you to also test your code on:\n",
        "* **Acrobot-v1**\n",
        "* **MountainCar-v0**\n",
        "\n",
        "| Env Info          \t| CartPole-v1 \t| Acrobot-v1                \t| MountainCar-v0 \t|\n",
        "|-------------------\t|-------------\t|---------------------------\t|----------------\t|\n",
        "| **Observation Space** \t| Box(4)      \t| Box(6)                    \t| Box(2)         \t|\n",
        "| **Action Space**      \t| Discrete(2) \t| Discrete(3)               \t| Discrete(3)    \t|\n",
        "| **Rewards**           \t| 1 per step  \t| -1 if not terminal else 0 \t| -1 per step    \t|\n",
        "\n",
        "A gym environment is loaded with the command `env = gym.make(env_id)`. Once the environment is created, you need to reset it with `observation = env.reset()` and then you can interact with it using the method step: `observation, reward, done, info = env.step(action)`."
      ]
    },
    {
      "cell_type": "code",
      "metadata": {
        "id": "3wfHvW9Hh4H3",
        "colab_type": "code",
        "colab": {}
      },
      "source": [
        "# We load CartPole-v1\n",
        "env = gym.make('CartPole-v1')\n",
        "# We wrap it in order to save our experiment on a file.\n",
        "env = Monitor(env, \"./gym-results\", force=True)"
      ],
      "execution_count": 0,
      "outputs": []
    },
    {
      "cell_type": "code",
      "metadata": {
        "id": "2-fFj5sDiA0C",
        "colab_type": "code",
        "colab": {
          "base_uri": "https://localhost:8080/",
          "height": 421
        },
        "outputId": "1e1925c5-2a17-4da4-b140-336fe815b5ce"
      },
      "source": [
        "done = False\n",
        "obs = env.reset()\n",
        "while not done:\n",
        "    action = env.action_space.sample()\n",
        "    obs, reward, done, info = env.step(action)\n",
        "env.close()\n",
        "show_video(\"./gym-results\")"
      ],
      "execution_count": 8,
      "outputs": [
        {
          "output_type": "display_data",
          "data": {
            "text/html": [
              "<video alt=\"gym-results/openaigym.video.0.125.video000000.mp4\" autoplay \n",
              "                      loop controls style=\"height: 400px;\">\n",
              "                      <source src=\"data:video/mp4;base64,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\" type=\"video/mp4\" />\n",
              "                 </video>"
            ],
            "text/plain": [
              "<IPython.core.display.HTML object>"
            ]
          },
          "metadata": {
            "tags": []
          }
        }
      ]
    },
    {
      "cell_type": "markdown",
      "metadata": {
        "id": "sd2xLlapilZE",
        "colab_type": "text"
      },
      "source": [
        "## REINFORCE\n",
        "\n",
        "**Q1: Implement the REINFORCE algorithm**\n",
        "\n",
        "The code is splitted in two parts:\n",
        "* The Model class defines the architecture of our neural network which takes as input the current state and returns the policy,\n",
        "* The Agent class is responsible for the training and evaluation procedure. You will need to code the method `optimize_model`."
      ]
    },
    {
      "cell_type": "code",
      "metadata": {
        "id": "iwsQ8NSPiCz7",
        "colab_type": "code",
        "colab": {}
      },
      "source": [
        "class Model(nn.Module):\n",
        "    def __init__(self, dim_observation, n_actions):\n",
        "        super(Model, self).__init__()\n",
        "        \n",
        "        self.n_actions = n_actions\n",
        "        self.dim_observation = dim_observation\n",
        "        \n",
        "        self.net = nn.Sequential(\n",
        "            nn.Linear(in_features=self.dim_observation, out_features=16),\n",
        "            nn.ReLU(),\n",
        "            nn.Linear(in_features=16, out_features=8),\n",
        "            nn.ReLU(),\n",
        "            nn.Linear(in_features=8, out_features=self.n_actions),\n",
        "            nn.Softmax(dim=0)\n",
        "        )\n",
        "        \n",
        "    def forward(self, state):\n",
        "        return self.net(state)\n",
        "    \n",
        "    def select_action(self, state):\n",
        "        action = torch.multinomial(self.forward(state), 1)\n",
        "        return action"
      ],
      "execution_count": 0,
      "outputs": []
    },
    {
      "cell_type": "markdown",
      "metadata": {
        "id": "xrgtQMYbiwX7",
        "colab_type": "text"
      },
      "source": [
        "Create the model based on the properties of the MDP you want to solve"
      ]
    },
    {
      "cell_type": "code",
      "metadata": {
        "id": "S6ieL_KJirq9",
        "colab_type": "code",
        "colab": {
          "base_uri": "https://localhost:8080/",
          "height": 211
        },
        "outputId": "97fbb9c6-8b47-4a67-e4be-b8da36abb251"
      },
      "source": [
        "env_id = 'CartPole-v1'\n",
        "env = gym.make(env_id)\n",
        "model = Model(env.observation_space.shape[0], env.action_space.n)\n",
        "print(f'The model we created correspond to:\\n{model}')"
      ],
      "execution_count": 10,
      "outputs": [
        {
          "output_type": "stream",
          "text": [
            "The model we created correspond to:\n",
            "Model(\n",
            "  (net): Sequential(\n",
            "    (0): Linear(in_features=4, out_features=16, bias=True)\n",
            "    (1): ReLU()\n",
            "    (2): Linear(in_features=16, out_features=8, bias=True)\n",
            "    (3): ReLU()\n",
            "    (4): Linear(in_features=8, out_features=2, bias=True)\n",
            "    (5): Softmax(dim=0)\n",
            "  )\n",
            ")\n"
          ],
          "name": "stdout"
        }
      ]
    },
    {
      "cell_type": "markdown",
      "metadata": {
        "id": "WwrVF9kti1e-",
        "colab_type": "text"
      },
      "source": [
        "We provide a base agent that you will need to extend in the next cell with your implementation of `optimize_model`.\n",
        "\n",
        "Only change in **BaseAgent** : np.mean() and np.std() instead of attributes .mean() and .std() since *rewards* is a list and not an array."
      ]
    },
    {
      "cell_type": "code",
      "metadata": {
        "id": "DWvKO66ii1zh",
        "colab_type": "code",
        "colab": {}
      },
      "source": [
        "class BaseAgent:\n",
        "    \n",
        "    def __init__(self, config):\n",
        "        self.config = config\n",
        "        self.env = gym.make(config['env_id'])\n",
        "        make_seed(config['seed'])\n",
        "        self.env.seed(config['seed'])\n",
        "        self.model = Model(self.env.observation_space.shape[0], self.env.action_space.n)\n",
        "        self.gamma = config['gamma']\n",
        "        \n",
        "        # the optimizer used by PyTorch (Stochastic Gradient, Adagrad, Adam, etc.)\n",
        "        self.optimizer = torch.optim.Adam(self.model.net.parameters(), lr=config['learning_rate'])\n",
        "        self.monitor_env = Monitor(env, \"./gym-results\", force=True, video_callable=lambda episode: True)\n",
        "    \n",
        "    # Method to implement\n",
        "    def _compute_returns(self, rewards):\n",
        "        \"\"\"Returns the cumulative discounted rewards at each time step\n",
        "\n",
        "        Parameters\n",
        "        ----------\n",
        "        rewards : array\n",
        "            The array of rewards of one episode\n",
        "\n",
        "        Returns\n",
        "        -------\n",
        "        array\n",
        "            The cumulative discounted rewards at each time step\n",
        "            \n",
        "        Example\n",
        "        -------\n",
        "        for rewards=[1, 2, 3] this method outputs [1 + 2 * gamma + 3 * gamma**2, 2 + 3 * gamma, 3] \n",
        "        \"\"\"\n",
        "        \n",
        "        raise NotImplementedError\n",
        "    \n",
        "    # Method to implement\n",
        "    def optimize_model(self, n_trajectories):\n",
        "        \"\"\"Perform a gradient update using n_trajectories\n",
        "\n",
        "        Parameters\n",
        "        ----------\n",
        "        n_trajectories : int\n",
        "            The number of trajectories used to approximate the expectation card(D) in the formula above\n",
        "        \n",
        "        Returns\n",
        "        -------\n",
        "        array\n",
        "            The cumulative discounted rewards of each trajectory\n",
        "        \"\"\"\n",
        "        \n",
        "        raise NotImplementedError\n",
        "    \n",
        "    def train(self, n_trajectories, n_update):\n",
        "        \"\"\"Training method\n",
        "\n",
        "        Parameters\n",
        "        ----------\n",
        "        n_trajectories : int\n",
        "            The number of trajectories used to approximate the expected gradient\n",
        "        n_update : int\n",
        "            The number of gradient updates\n",
        "            \n",
        "        \"\"\"\n",
        "        \n",
        "        rewards = []\n",
        "        for episode in range(n_update):\n",
        "            rewards.append(self.optimize_model(n_trajectories))\n",
        "            print(f'Episode {episode + 1}/{n_update}: rewards {round(np.mean(rewards[-1]), 2)} +/- {round(np.std(rewards[-1]), 2)}')\n",
        "        \n",
        "        # Plotting\n",
        "        r = pd.DataFrame((itertools.chain(*(itertools.product([i], rewards[i]) for i in range(len(rewards))))), columns=['Epoch', 'Reward'])\n",
        "        sns.lineplot(x=\"Epoch\", y=\"Reward\", data=r, ci='sd');\n",
        "        \n",
        "    def evaluate(self, render=False):\n",
        "        \"\"\"Evaluate the agent on a single trajectory            \n",
        "        \"\"\"\n",
        "        with torch.no_grad():\n",
        "            observation = self.monitor_env.reset()\n",
        "            observation = torch.tensor(observation, dtype=torch.float)\n",
        "            reward_episode = 0\n",
        "            done = False\n",
        "                \n",
        "            while not done:\n",
        "                action = self.model.select_action(observation)\n",
        "                observation, reward, done, info = self.monitor_env.step(int(action))\n",
        "                observation = torch.tensor(observation, dtype=torch.float)\n",
        "                reward_episode += reward\n",
        "            \n",
        "            self.monitor_env.close()\n",
        "            if render:\n",
        "                show_video(\"./gym-results\")\n",
        "                print(f'Reward: {reward_episode}')\n",
        "            print(f'Reward: {reward_episode}')"
      ],
      "execution_count": 0,
      "outputs": []
    },
    {
      "cell_type": "markdown",
      "metadata": {
        "id": "Y6mhw_A3i_8R",
        "colab_type": "text"
      },
      "source": [
        "Finally you can implement your agent"
      ]
    },
    {
      "cell_type": "code",
      "metadata": {
        "id": "lbjP-7WHi9oc",
        "colab_type": "code",
        "colab": {}
      },
      "source": [
        "class REINFORCE(BaseAgent):\n",
        "    \n",
        "    def _compute_returns(self, rewards):\n",
        "        \n",
        "        for i in range(len(rewards)):\n",
        "            for j in range(i,len(rewards)):\n",
        "                rewards[i] += rewards[j] * gamma**(j-i)\n",
        "        return rewards\n",
        "    \n",
        "        \n",
        "    def optimize_model(self, n_trajectories):\n",
        "\n",
        "        reward_trajectories = []\n",
        "        loss = 0\n",
        "\n",
        "        for i in range(n_trajectories):\n",
        "            #Initialization\n",
        "            states=[]\n",
        "            actions=[]\n",
        "            rewards=[]\n",
        "            state = torch.Tensor(self.env.reset())\n",
        "\n",
        "            # While loop until goal reached \n",
        "            done = False\n",
        "            while not done:\n",
        "                states.append(state)\n",
        "                # Choose the nex action to do\n",
        "                action = self.model.select_action(state).item()\n",
        "                actions.append(action)\n",
        "\n",
        "                # Doing the action\n",
        "                next_state, reward, done, info = self.env.step(action)\n",
        "\n",
        "                # Updating the state and logging the reward\n",
        "                state = torch.Tensor(next_state)\n",
        "                rewards.append(reward)\n",
        "\n",
        "            # Computing the trajectory of the rewards\n",
        "            trajectory = self._compute_returns(np.array(rewards))\n",
        "            reward_trajectories.append(trajectory[0])\n",
        "\n",
        "            # Updating the cumulated loss\n",
        "            for t in range(len(states)):\n",
        "                loss += trajectory[t] * torch.log((self.model.forward(states[t])[actions[t]]))\n",
        "\n",
        "        # Average loss\n",
        "        loss = - loss/n_trajectories\n",
        "        \n",
        "        # The following lines take care of the gradient descent step for the variable loss\n",
        "        # that you need to compute.\n",
        "        \n",
        "        # Discard previous gradients\n",
        "        self.optimizer.zero_grad()\n",
        "\n",
        "        # Compute the gradient \n",
        "        loss.backward()\n",
        "\n",
        "        # Do the gradient descent step\n",
        "        self.optimizer.step()\n",
        "\n",
        "\n",
        "        return reward_trajectories\n",
        "    "
      ],
      "execution_count": 0,
      "outputs": []
    },
    {
      "cell_type": "markdown",
      "metadata": {
        "id": "XAw1N6PvwdZX",
        "colab_type": "text"
      },
      "source": [
        "### Testing the reinforcement on the Cart and Pole config"
      ]
    },
    {
      "cell_type": "markdown",
      "metadata": {
        "id": "jlDxEET_wj9g",
        "colab_type": "text"
      },
      "source": [
        "#### Setting up the environment"
      ]
    },
    {
      "cell_type": "code",
      "metadata": {
        "id": "vZAo0K8VjCYj",
        "colab_type": "code",
        "colab": {
          "base_uri": "https://localhost:8080/",
          "height": 52
        },
        "outputId": "40180edd-82ae-4265-9e7e-3c21a84203fc"
      },
      "source": [
        "env_id = 'CartPole-v1'\n",
        "learning_rate = 0.01\n",
        "gamma = 1 \n",
        "seed = 1235\n",
        "\n",
        "config = {\n",
        "    'env_id': env_id,\n",
        "    'learning_rate': learning_rate,\n",
        "    'seed': seed,\n",
        "    'gamma': gamma\n",
        "}\n",
        "\n",
        "print(\"Current config is:\")\n",
        "pprint(config)\n"
      ],
      "execution_count": 13,
      "outputs": [
        {
          "output_type": "stream",
          "text": [
            "Current config is:\n",
            "{'env_id': 'CartPole-v1', 'gamma': 1, 'learning_rate': 0.01, 'seed': 1235}\n"
          ],
          "name": "stdout"
        }
      ]
    },
    {
      "cell_type": "markdown",
      "metadata": {
        "id": "0ACtfeGhwrpp",
        "colab_type": "text"
      },
      "source": [
        "#### Launching the learning in 50 epochs with 50 trajectories each"
      ]
    },
    {
      "cell_type": "code",
      "metadata": {
        "id": "D4Ag7E3qjJas",
        "colab_type": "code",
        "colab": {
          "base_uri": "https://localhost:8080/",
          "height": 1000
        },
        "outputId": "2d673826-631d-4dee-c5b8-0b59338398e4"
      },
      "source": [
        "agent = REINFORCE(config)\n",
        "agent.train(n_trajectories=50, n_update=50)"
      ],
      "execution_count": 14,
      "outputs": [
        {
          "output_type": "stream",
          "text": [
            "Episode 1/50: rewards 17.9 +/- 6.2\n",
            "Episode 2/50: rewards 24.4 +/- 10.22\n",
            "Episode 3/50: rewards 22.78 +/- 10.9\n",
            "Episode 4/50: rewards 24.44 +/- 12.22\n",
            "Episode 5/50: rewards 24.16 +/- 15.84\n",
            "Episode 6/50: rewards 25.36 +/- 13.01\n",
            "Episode 7/50: rewards 25.62 +/- 14.78\n",
            "Episode 8/50: rewards 25.92 +/- 14.38\n",
            "Episode 9/50: rewards 27.6 +/- 15.79\n",
            "Episode 10/50: rewards 26.88 +/- 14.47\n",
            "Episode 11/50: rewards 29.66 +/- 14.07\n",
            "Episode 12/50: rewards 30.34 +/- 15.0\n",
            "Episode 13/50: rewards 27.2 +/- 12.48\n",
            "Episode 14/50: rewards 28.4 +/- 15.38\n",
            "Episode 15/50: rewards 29.06 +/- 14.48\n",
            "Episode 16/50: rewards 39.2 +/- 25.07\n",
            "Episode 17/50: rewards 37.14 +/- 21.44\n",
            "Episode 18/50: rewards 34.34 +/- 15.92\n",
            "Episode 19/50: rewards 34.32 +/- 17.95\n",
            "Episode 20/50: rewards 41.9 +/- 25.29\n",
            "Episode 21/50: rewards 34.78 +/- 14.52\n",
            "Episode 22/50: rewards 44.08 +/- 21.57\n",
            "Episode 23/50: rewards 43.2 +/- 28.48\n",
            "Episode 24/50: rewards 49.66 +/- 18.62\n",
            "Episode 25/50: rewards 47.12 +/- 23.02\n",
            "Episode 26/50: rewards 54.94 +/- 20.7\n",
            "Episode 27/50: rewards 55.56 +/- 32.8\n",
            "Episode 28/50: rewards 56.26 +/- 27.0\n",
            "Episode 29/50: rewards 64.34 +/- 26.56\n",
            "Episode 30/50: rewards 75.18 +/- 45.9\n",
            "Episode 31/50: rewards 68.86 +/- 30.76\n",
            "Episode 32/50: rewards 84.22 +/- 46.94\n",
            "Episode 33/50: rewards 83.62 +/- 42.44\n",
            "Episode 34/50: rewards 91.06 +/- 41.71\n",
            "Episode 35/50: rewards 105.4 +/- 51.61\n",
            "Episode 36/50: rewards 115.82 +/- 49.89\n",
            "Episode 37/50: rewards 120.36 +/- 48.99\n",
            "Episode 38/50: rewards 138.14 +/- 55.69\n",
            "Episode 39/50: rewards 147.48 +/- 54.53\n",
            "Episode 40/50: rewards 168.46 +/- 59.98\n",
            "Episode 41/50: rewards 160.96 +/- 64.88\n",
            "Episode 42/50: rewards 160.44 +/- 51.66\n",
            "Episode 43/50: rewards 179.32 +/- 45.73\n",
            "Episode 44/50: rewards 193.68 +/- 58.03\n",
            "Episode 45/50: rewards 202.88 +/- 78.83\n",
            "Episode 46/50: rewards 275.58 +/- 95.8\n",
            "Episode 47/50: rewards 291.62 +/- 122.96\n",
            "Episode 48/50: rewards 309.34 +/- 118.96\n",
            "Episode 49/50: rewards 332.04 +/- 118.45\n",
            "Episode 50/50: rewards 404.16 +/- 104.98\n"
          ],
          "name": "stdout"
        },
        {
          "output_type": "display_data",
          "data": {
            "image/png": "[encoded data removed]",
            "text/plain": [
              "<Figure size 432x288 with 1 Axes>"
            ]
          },
          "metadata": {
            "tags": []
          }
        }
      ]
    },
    {
      "cell_type": "markdown",
      "metadata": {
        "id": "q3_dvBl8jUc3",
        "colab_type": "text"
      },
      "source": [
        "Evaluate the agent over multiple episodes"
      ]
    },
    {
      "cell_type": "code",
      "metadata": {
        "id": "aPyqbIiCjO_-",
        "colab_type": "code",
        "colab": {
          "base_uri": "https://localhost:8080/",
          "height": 35
        },
        "outputId": "f86dc6e1-a031-425b-870c-a5362bee3720"
      },
      "source": [
        "agent.evaluate()"
      ],
      "execution_count": 15,
      "outputs": [
        {
          "output_type": "stream",
          "text": [
            "Reward: 500.0\n"
          ],
          "name": "stdout"
        }
      ]
    },
    {
      "cell_type": "markdown",
      "metadata": {
        "id": "LHM2_CRFkNoA",
        "colab_type": "text"
      },
      "source": [
        "## Policy Evaluation as Supervised Learning\n",
        "\n",
        "**Q2: Implement batched gradient algorithm**\n",
        "\n",
        "Define network for V-function (ValueNetwork) and policy (ActorNetwork)\n"
      ]
    },
    {
      "cell_type": "code",
      "metadata": {
        "id": "W9sxcz_eKF1M",
        "colab_type": "code",
        "colab": {}
      },
      "source": [
        "class ValueNetwork(nn.Module):\n",
        "\n",
        "    def __init__(self, input_size, hidden_size, output_size):\n",
        "        super(ValueNetwork, self).__init__()\n",
        "        self.fc1 = nn.Linear(input_size, hidden_size)\n",
        "        self.fc2 = nn.Linear(hidden_size, hidden_size)\n",
        "        self.fc3 = nn.Linear(hidden_size, output_size)\n",
        "\n",
        "    def forward(self, x):\n",
        "        out = F.relu(self.fc1(x))\n",
        "        out = F.relu(self.fc2(out))\n",
        "        out = self.fc3(out)\n",
        "        return out\n",
        "    \n",
        "    def predict(self, x):\n",
        "        return self(x).detach().numpy()[0]"
      ],
      "execution_count": 0,
      "outputs": []
    },
    {
      "cell_type": "code",
      "metadata": {
        "id": "1GKxKzs5khxM",
        "colab_type": "code",
        "colab": {}
      },
      "source": [
        "class ActorNetwork(nn.Module):\n",
        "\n",
        "    def __init__(self, input_size, hidden_size, action_size):\n",
        "        super(ActorNetwork, self).__init__()\n",
        "        self.fc1 = nn.Linear(input_size, hidden_size)\n",
        "        self.fc2 = nn.Linear(hidden_size, hidden_size)\n",
        "        self.fc3 = nn.Linear(hidden_size, action_size)\n",
        "\n",
        "    def forward(self, x):\n",
        "        out = F.relu(self.fc1(x))\n",
        "        out = F.relu(self.fc2(out))\n",
        "        out = F.softmax(self.fc3(out), dim=-1)\n",
        "        return out\n",
        "    \n",
        "    def select_action(self, x):\n",
        "        return torch.multinomial(self(x), 1).detach().numpy()"
      ],
      "execution_count": 0,
      "outputs": []
    },
    {
      "cell_type": "markdown",
      "metadata": {
        "id": "aBpNVkaAKLQz",
        "colab_type": "text"
      },
      "source": [
        "Implement your (batched) gradient algorithm\n",
        "\n",
        "- *_returns_advantages* is defined the same way as *_compute_returns* in *REINFORCEMENT*\n",
        "\n",
        "- The optimization is based on a MSE loss on the values.\n",
        "\n",
        "- The *observations* and *rewards* are updated thanks to *env.step()*.\n",
        "\n",
        "- The *values* are computed from the *observations* using the *ValueNetwork*.\n",
        "\n",
        "- The actions are selected thanks to the *policy* wich is an *ActorNetwork*, and is passed as an argument of *EvalAgent*."
      ]
    },
    {
      "cell_type": "code",
      "metadata": {
        "id": "QQ4Wu5B5KIIO",
        "colab_type": "code",
        "colab": {}
      },
      "source": [
        "class EvalAgent:\n",
        "\n",
        "    def __init__(self, config, policy):\n",
        "        self.config = config\n",
        "        self.env = gym.make(config['env_id'])\n",
        "        make_seed(config['seed'])\n",
        "        self.env.seed(config['seed'])\n",
        "        self.monitor_env = Monitor(self.env, \"./gym-results\", force=True, video_callable=lambda episode: True)\n",
        "        self.gamma = config['gamma']\n",
        "        self.policy = policy\n",
        "\n",
        "        # Our network\n",
        "        self.value_network = ValueNetwork(self.env.observation_space.shape[0], 16, 1)\n",
        "\n",
        "        # optimizers\n",
        "        self.value_network_optimizer = optim.RMSprop(self.value_network.parameters(), \n",
        "                                                   lr=config['value_network']['learning_rate'])\n",
        "    \n",
        "    def _returns_advantages(self, rewards):\n",
        "        \"\"\"Returns the cumulative discounted rewards at each time step\n",
        "\n",
        "        Parameters\n",
        "        ----------\n",
        "        rewards : array\n",
        "            An array of shape (batch_size,) containing the rewards given by the env\n",
        "        dones : array\n",
        "            An array of shape (batch_size,) containing the done bool indicator given by the env\n",
        "        next_value : float\n",
        "            The value of the next state given by the value network\n",
        "\n",
        "        Returns\n",
        "        -------\n",
        "        returns : array\n",
        "            The cumulative discounted rewards\n",
        "        \"\"\"\n",
        "        for i in range(len(rewards)):\n",
        "            for j in range(i,len(rewards)):\n",
        "                rewards[i] += rewards[j] * gamma**(j-i)\n",
        "\n",
        "        return rewards\n",
        "    \n",
        "    \n",
        "    def optimize_model(self, observations, returns):\n",
        "        \"\"\"Perform a gradient update using provided transitions\n",
        "\n",
        "        Parameters\n",
        "        ----------\n",
        "        observations : array\n",
        "            The observations\n",
        "        returns : array\n",
        "            The returns from each state\n",
        "\n",
        "        Returns\n",
        "        -------\n",
        "        loss_value: int\n",
        "            The loss value\n",
        "        \"\"\"\n",
        "\n",
        "        returns = torch.tensor(returns[:, None], dtype=torch.float)\n",
        "        observations = torch.tensor(observations, dtype=torch.float)\n",
        "        \n",
        "        # Discard previous gradients\n",
        "        self.value_network_optimizer.zero_grad()\n",
        "        \n",
        "        # Computing the loss\n",
        "        values = self.value_network(observations)\n",
        "        loss_mse = F.mse_loss(values, returns)\n",
        "\n",
        "        # Compute the gradient \n",
        "        loss_mse.backward()\n",
        "\n",
        "        # Do the gradient descent step\n",
        "        self.value_network_optimizer.step()\n",
        "\n",
        "        return loss_mse\n",
        "    \n",
        "    def training_batch(self, epochs, batch_size):\n",
        "        \"\"\"Perform a training by batch\n",
        "\n",
        "        Parameters\n",
        "        ----------\n",
        "        epochs : int\n",
        "            Number of epochs\n",
        "        batch_size : int\n",
        "            The size of a batch\n",
        "        \"\"\"\n",
        "        episode_count = 0\n",
        "        actions = np.empty((batch_size,), dtype=np.int)\n",
        "        dones = np.empty((batch_size,), dtype=np.bool)\n",
        "        rewards, values = np.empty((2, batch_size), dtype=np.float)\n",
        "        observations = np.empty((batch_size,) + self.env.observation_space.shape, dtype=np.float)\n",
        "        observation = self.env.reset()\n",
        "        mse_test = []\n",
        "\n",
        "        for epoch in range(epochs):\n",
        "            # Lets collect one batch\n",
        "            for i in range(batch_size):\n",
        "                observations[i] = observation # current state\n",
        "                values[i] =   self.value_network(torch.tensor(observation, dtype=torch.float)) #associated value\n",
        "                actions[i] = self.policy.select_action(torch.tensor(observation, dtype=torch.float)) # choosing the action\n",
        "\n",
        "                # step\n",
        "                observation, reward, done, info = self.env.step(int(actions[i]))\n",
        "                rewards[i]=reward\n",
        "                dones[i]=done\n",
        "\n",
        "                if dones[i]:\n",
        "                    observation = self.env.reset()\n",
        "\n",
        "            # If our episode didn't end on the last step we need to compute the value for the last state\n",
        "            if dones[-1]:\n",
        "                next_value = 0\n",
        "            else:\n",
        "                next_value = self.value_network(torch.tensor(observation, dtype=torch.float))\n",
        "\n",
        "            # Update episode_count\n",
        "            episode_count += sum(dones)\n",
        "\n",
        "            # Compute returns\n",
        "            returns = self._returns_advantages(rewards)\n",
        "\n",
        "            # Learning step !\n",
        "            self.optimize_model(observations, returns)\n",
        "\n",
        "            # Test it every 50 epochs\n",
        "            if epoch % 25 == 0 or epoch == epochs - 1:\n",
        "                L = []\n",
        "                for _ in range(10):\n",
        "                    obs_states, y_mc = self.evaluate()\n",
        "                    y_hat = self.value_network.predict(torch.tensor(obs_states, dtype=torch.float)) # compute prediction\n",
        "                    err = y_mc - y_hat\n",
        "                    mse = np.mean(err**2)\n",
        "                    L.append(mse.item())\n",
        "                mse_test.append(L)\n",
        "                print(f'Epoch {epoch}/{epochs}: MSE: {np.mean(mse)}')\n",
        "\n",
        "                observation = self.env.reset()\n",
        "\n",
        "        # Plotting\n",
        "        r = pd.DataFrame((itertools.chain(*(itertools.product([i], mse_test[i]) for i in range(len(mse_test))))), columns=['Epoch', 'MSE'])\n",
        "        sns.lineplot(x=\"Epoch\", y=\"MSE\", data=r, ci='sd');\n",
        "\n",
        "        print(f'The training was done over a total of {episode_count} episodes')\n",
        "\n",
        "    def evaluate(self, render=False):\n",
        "        \"\"\"Returns the observations and the estimated V-function (using first visit Monte-Carlo)\n",
        "\n",
        "        Parameters\n",
        "        ----------\n",
        "        rewards : array\n",
        "            An array of shape (batch_size,) containing the rewards given by the env\n",
        "        dones : array\n",
        "            An array of shape (batch_size,) containing the done bool indicator given by the env\n",
        "        values : array\n",
        "            An array of shape (batch_size,) containing the values given by the value network\n",
        "        next_value : float\n",
        "            The value of the next state given by the value network\n",
        "\n",
        "        Returns\n",
        "        -------\n",
        "        states : array\n",
        "            Observations\n",
        "        returns : array\n",
        "            The estimate value function of each state\n",
        "        \"\"\"\n",
        "        env = self.monitor_env if render else self.env\n",
        "        observation = env.reset()\n",
        "        states = [observation.copy()]\n",
        "        rewards= []\n",
        "        observation = torch.tensor(observation, dtype=torch.float)\n",
        "        done = False\n",
        "        steps = 0\n",
        "\n",
        "        while not done:\n",
        "            action = self.policy.select_action(torch.tensor(observation, dtype=torch.float))\n",
        "            observation, reward, done, info = self.env.step(int(action))\n",
        "            for i in range(steps):\n",
        "                rewards[i] = rewards[i] + math.pow(self.gamma, steps-i)*reward\n",
        "            rewards.append(reward)\n",
        "            if not done:\n",
        "                states.append(observation.copy())\n",
        "            observation = torch.tensor(observation, dtype=torch.float)\n",
        "            steps += 1\n",
        "\n",
        "        env.close()\n",
        "        if render:\n",
        "            show_video(\"./gym-results\")\n",
        "            print(f'Reward: {reward_episode}')\n",
        "        states = np.array(states).reshape(-1, self.env.observation_space.shape[0])\n",
        "        returns = np.array(rewards).reshape(-1,1)\n",
        "        return states, returns"
      ],
      "execution_count": 0,
      "outputs": []
    },
    {
      "cell_type": "markdown",
      "metadata": {
        "id": "IY1VIUHLNKn3",
        "colab_type": "text"
      },
      "source": [
        "Define configuration"
      ]
    },
    {
      "cell_type": "code",
      "metadata": {
        "id": "Fvc-7jXDNNkG",
        "colab_type": "code",
        "outputId": "fc31fb4f-a799-4c17-a856-f72718910ed5",
        "colab": {
          "base_uri": "https://localhost:8080/",
          "height": 105
        }
      },
      "source": [
        "env_id = 'CartPole-v1'\n",
        "value_learning_rate = 0.001\n",
        "gamma = 0.99\n",
        "seed = 1\n",
        "\n",
        "config_td = {\n",
        "    'env_id': env_id,\n",
        "    'gamma': gamma,\n",
        "    'seed': seed,\n",
        "    'value_network': {'learning_rate': value_learning_rate, 'reference': './CartPole_value.pt'}\n",
        "}\n",
        "\n",
        "print(\"Current config_td is:\")\n",
        "pprint(config_td)\n"
      ],
      "execution_count": 19,
      "outputs": [
        {
          "output_type": "stream",
          "text": [
            "Current config_td is:\n",
            "{'env_id': 'CartPole-v1',\n",
            " 'gamma': 0.99,\n",
            " 'seed': 1,\n",
            " 'value_network': {'learning_rate': 0.001, 'reference': './CartPole_value.pt'}}\n"
          ],
          "name": "stdout"
        }
      ]
    },
    {
      "cell_type": "markdown",
      "metadata": {
        "id": "d2lRnaF3NPyy",
        "colab_type": "text"
      },
      "source": [
        "Create policy"
      ]
    },
    {
      "cell_type": "code",
      "metadata": {
        "id": "NkbHK_lXNShg",
        "colab_type": "code",
        "outputId": "e2981b55-a0bc-4a3d-b975-981f5897d936",
        "colab": {
          "base_uri": "https://localhost:8080/",
          "height": 35
        }
      },
      "source": [
        "env = gym.make(config_td['env_id'])\n",
        "policy = ActorNetwork(env.observation_space.shape[0], 16, env.action_space.n)\n",
        "policy.load_state_dict(torch.load('./mvarl_hands_on/data/CartPole_actor.pt'))\n",
        "state = torch.tensor(np.array(env.reset(), dtype=np.float32))\n",
        "print(\"pi(state) = \", policy.select_action(state))\n",
        "del env"
      ],
      "execution_count": 20,
      "outputs": [
        {
          "output_type": "stream",
          "text": [
            "pi(state) =  [0]\n"
          ],
          "name": "stdout"
        }
      ]
    },
    {
      "cell_type": "markdown",
      "metadata": {
        "id": "Y51M4EgtNU7Z",
        "colab_type": "text"
      },
      "source": [
        "Run agent"
      ]
    },
    {
      "cell_type": "code",
      "metadata": {
        "id": "4PFvnYLnNGvX",
        "colab_type": "code",
        "outputId": "2a94c171-b8f7-45e3-9fe9-ac480e404caf",
        "colab": {
          "base_uri": "https://localhost:8080/",
          "height": 1000
        }
      },
      "source": [
        "agent = EvalAgent(config=config_td, policy=policy)\n",
        "agent.training_batch(epochs=1000, batch_size=256)"
      ],
      "execution_count": 21,
      "outputs": [
        {
          "output_type": "stream",
          "text": [
            "/usr/local/lib/python3.6/dist-packages/ipykernel_launcher.py:175: UserWarning: To copy construct from a tensor, it is recommended to use sourceTensor.clone().detach() or sourceTensor.clone().detach().requires_grad_(True), rather than torch.tensor(sourceTensor).\n"
          ],
          "name": "stderr"
        },
        {
          "output_type": "stream",
          "text": [
            "Epoch 0/1000: MSE: 7039.383826365838\n",
            "Epoch 25/1000: MSE: 6972.846987336033\n",
            "Epoch 50/1000: MSE: 5125.389845381613\n",
            "Epoch 75/1000: MSE: 6696.706376655155\n",
            "Epoch 100/1000: MSE: 6480.275487846108\n",
            "Epoch 125/1000: MSE: 6185.817507608267\n",
            "Epoch 150/1000: MSE: 5856.447450343491\n",
            "Epoch 175/1000: MSE: 5517.125782909547\n",
            "Epoch 200/1000: MSE: 5178.309854982743\n",
            "Epoch 225/1000: MSE: 4784.752063067803\n",
            "Epoch 250/1000: MSE: 4349.362422494465\n",
            "Epoch 275/1000: MSE: 3921.3024064149467\n",
            "Epoch 300/1000: MSE: 3509.058556017547\n",
            "Epoch 325/1000: MSE: 3122.2170918297224\n",
            "Epoch 350/1000: MSE: 2670.3019581496674\n",
            "Epoch 375/1000: MSE: 2360.335870830137\n",
            "Epoch 400/1000: MSE: 2088.001288265924\n",
            "Epoch 425/1000: MSE: 1777.2616084457138\n",
            "Epoch 450/1000: MSE: 1519.5987760020332\n",
            "Epoch 475/1000: MSE: 1358.4102816657605\n",
            "Epoch 500/1000: MSE: 1178.4446373446178\n",
            "Epoch 525/1000: MSE: 1077.6638970883423\n",
            "Epoch 550/1000: MSE: 1002.1742879010264\n",
            "Epoch 575/1000: MSE: 952.5709494876857\n",
            "Epoch 600/1000: MSE: 913.4244876488336\n",
            "Epoch 625/1000: MSE: 909.918640739128\n",
            "Epoch 650/1000: MSE: 907.7708854087505\n",
            "Epoch 675/1000: MSE: 883.5880550930589\n",
            "Epoch 700/1000: MSE: 878.6891078156794\n",
            "Epoch 725/1000: MSE: 853.4760770874294\n",
            "Epoch 750/1000: MSE: 861.8911427147432\n",
            "Epoch 775/1000: MSE: 865.3552017553562\n",
            "Epoch 800/1000: MSE: 862.8273141738463\n",
            "Epoch 825/1000: MSE: 856.2081659779947\n",
            "Epoch 850/1000: MSE: 651.3828774786301\n",
            "Epoch 875/1000: MSE: 677.0231682561156\n",
            "Epoch 900/1000: MSE: 863.1034710926679\n",
            "Epoch 925/1000: MSE: 859.570798950579\n",
            "Epoch 950/1000: MSE: 867.3269419973525\n",
            "Epoch 975/1000: MSE: 861.064506450644\n",
            "Epoch 999/1000: MSE: 867.425975907046\n",
            "The training was done over a total of 517 episodes\n"
          ],
          "name": "stdout"
        },
        {
          "output_type": "display_data",
          "data": {
            "image/png": "[encoded data removed]",
            "text/plain": [
              "<Figure size 432x288 with 1 Axes>"
            ]
          },
          "metadata": {
            "tags": []
          }
        }
      ]
    },
    {
      "cell_type": "markdown",
      "metadata": {
        "id": "03as0wkuja2A",
        "colab_type": "text"
      },
      "source": [
        "## Advantage Actor Critic (A2C)\n",
        "**Q3: Implement the A2C method**\n",
        "\n",
        "As usual we provide a structure you can use as starting point.\n",
        "\n",
        "\n",
        "\n",
        "**Note:** try to reuse previous parts of previous code.\n",
        "\n",
        "\n",
        "- The *_returns_advantages* is similar to the one in *EvalAgent* (except we check when a state is done) + the computation of the temporal difference = advantages between each state.\n",
        "\n",
        "- The *optimize_model* function is simalr to the one in *EvalAgent* except it takes into account the loss (entropy) of the *ActorNetwork*.\n",
        "\n",
        "- This time in the function *training_batch*, its the *ActionNetwork* of the A2C that is used to choose the next action.\n",
        "\n",
        "- We render the environement at the last step.\n",
        "\n"
      ]
    },
    {
      "cell_type": "code",
      "metadata": {
        "id": "-FyRTvrloPUv",
        "colab_type": "code",
        "colab": {}
      },
      "source": [
        "class A2CAgent:\n",
        "\n",
        "    def __init__(self, config):\n",
        "        self.config = config\n",
        "        self.env = gym.make(config['env_id'])\n",
        "        make_seed(config['seed'])\n",
        "        self.env.seed(config['seed'])\n",
        "        self.monitor_env = Monitor(self.env, \"./gym-results\", force=True, video_callable=lambda episode: True)\n",
        "        self.gamma = config['gamma']\n",
        "        \n",
        "        # Our two networks\n",
        "        self.value_network = ValueNetwork(self.env.observation_space.shape[0], 16, 1)\n",
        "        self.actor_network = ActorNetwork(self.env.observation_space.shape[0], 16, self.env.action_space.n)\n",
        "        \n",
        "        # Their optimizers\n",
        "        self.value_network_optimizer = optim.RMSprop(self.value_network.parameters(), lr=config['value_network']['learning_rate'])\n",
        "        self.actor_network_optimizer = optim.RMSprop(self.actor_network.parameters(), lr=config['actor_network']['learning_rate'])\n",
        "    \n",
        "    def _returns_advantages(self, rewards, dones, values, next_value):\n",
        "          \"\"\"Returns the cumulative discounted rewards at each time step\n",
        "\n",
        "          Parameters\n",
        "          ----------\n",
        "          rewards : array\n",
        "              An array of shape (batch_size,) containing the rewards given by the env\n",
        "          dones : array\n",
        "              An array of shape (batch_size,) containing the done bool indicator given by the env\n",
        "          values : array\n",
        "              An array of shape (batch_size,) containing the values given by the value network\n",
        "          next_value : float\n",
        "              The value of the next state given by the value network\n",
        "          \n",
        "          Returns\n",
        "          -------\n",
        "          returns : array\n",
        "              The cumulative discounted rewards\n",
        "          advantages : array\n",
        "              The advantages\n",
        "          \"\"\"\n",
        "          ## Returns\n",
        "          returns=copy.deepcopy(rewards)\n",
        "          returns[-1] = next_value\n",
        "\n",
        "          for i in reversed(range(len(returns)-1)):\n",
        "              # we only update the returns if we are not at a done state\n",
        "              returns[i] += returns[i+1] * self.gamma * (not dones[i])\n",
        "\n",
        "\n",
        "          ## Temporal difference\n",
        "          temporal_diff = np.zeros(np.shape(values))\n",
        "          for t in range(len(values)):\n",
        "              if t==len(values)-1: # if last value\n",
        "                  temporal_diff[t]= rewards[t-1] + self.gamma * next_value -values[t-1]\n",
        "              else:\n",
        "                  temporal_diff[t]= rewards[t] + returns[t+1] -values[t]\n",
        "          advantages = np.zeros(np.shape(values))\n",
        "\n",
        "          return returns, temporal_diff\n",
        "\n",
        "\n",
        "    def optimize_model(self, observations, actions, returns, advantages):\n",
        "        actions = F.one_hot(torch.tensor(actions), self.env.action_space.n)\n",
        "        returns = torch.tensor(returns[:, None], dtype=torch.float)\n",
        "        advantages = torch.tensor(advantages, dtype=torch.float)\n",
        "        observations = torch.tensor(observations, dtype=torch.float)\n",
        "        \n",
        "        # MSE for the values\n",
        "        # Actor & Entropy loss\n",
        "\n",
        "        ### Loss MSE for the values\n",
        "        # Discard previous gradients\n",
        "        self.value_network_optimizer.zero_grad()\n",
        "        values = self.value_network(observations)\n",
        "        loss_mse = F.mse_loss(values, returns)\n",
        "        # Backward on the loss\n",
        "        loss_mse.backward()\n",
        "        # Do the gradient descent steps\n",
        "        self.value_network_optimizer.step()\n",
        " \n",
        "\n",
        "        ### Loss for the Actor\n",
        "        # Discard previous gradients\n",
        "        self.actor_network_optimizer.zero_grad()\n",
        "        loss_actor = 0\n",
        "        for i in range(advantages.size()[0]):\n",
        "            loss_actor -= advantages[i]*torch.log(self.actor_network(observations[i])[torch.argmax(actions[i])])\n",
        "        # Backward on the loss\n",
        "        loss_actor.backward()\n",
        "        # Do the gradient descent steps\n",
        "        self.actor_network_optimizer.step()\n",
        "\n",
        "        return loss_mse+loss_actor\n",
        "\n",
        "\n",
        "    def training_batch(self, epochs, batch_size):\n",
        "        \"\"\"Perform a training by batch\n",
        "\n",
        "        Parameters\n",
        "        ----------\n",
        "        epochs : int\n",
        "            Number of epochs\n",
        "        batch_size : int\n",
        "            The size of a batch\n",
        "        \"\"\"\n",
        "        episode_count = 0\n",
        "        actions = np.empty((batch_size,), dtype=np.int)\n",
        "        dones = np.empty((batch_size,), dtype=np.bool)\n",
        "        rewards, values = np.empty((2, batch_size), dtype=np.float)\n",
        "        observations = np.empty((batch_size,) + self.env.observation_space.shape, dtype=np.float)\n",
        "        probs = []\n",
        "        rewards_test = []\n",
        "        observation = self.env.reset()\n",
        "        for epoch in range(epochs):\n",
        "            \n",
        "            # Lets collect one batch\n",
        "            for i in range(batch_size):\n",
        "                observations[i] = observation # current state\n",
        "                values[i] =   self.value_network(torch.tensor(observation, dtype=torch.float)) #associated value\n",
        "                actions[i] = int(self.actor_network.select_action(torch.tensor(observation, dtype=torch.float))) # choosing the action\n",
        "\n",
        "                # step\n",
        "                observation, reward, done, info = self.env.step(int(actions[i]))\n",
        "                rewards[i]=reward\n",
        "                dones[i]=done\n",
        "                \n",
        "                if dones[i]:\n",
        "                    observation = self.env.reset()\n",
        "\n",
        "            # If our episode didn't end on the last step we need to compute the value for the last state\n",
        "            if dones[-1]:\n",
        "                next_value = 0\n",
        "            else:\n",
        "                action = self.actor_network.select_action(torch.tensor(observation,dtype = torch.double).float())\n",
        "                observation, reward, done, info = self.env.step(int(action))\n",
        "                next_value = reward\n",
        "                if done :\n",
        "                    observation = self.env.reset()\n",
        "\n",
        "\n",
        "            # Update episode_count\n",
        "            episode_count += sum(dones)\n",
        "\n",
        "            # Compute returns\n",
        "            returns,advantages = self._returns_advantages(rewards, dones, values, next_value)\n",
        "\n",
        "            # Learning step !\n",
        "            self.optimize_model(observations, actions, returns, advantages)\n",
        "\n",
        "\n",
        "            # Test it every 50 epochs\n",
        "            if epoch % 50 == 0 or epoch == epochs - 1:\n",
        "                rewards_test.append(np.array([self.evaluate() for _ in range(50)]))\n",
        "                print(f'Epoch {epoch}/{epochs}: Mean rewards: {round(rewards_test[-1].mean(), 2)}, Std: {round(rewards_test[-1].std(), 2)}')\n",
        "\n",
        "                # Early stopping\n",
        "                if rewards_test[-1].mean() > 490 and epoch != epochs -1:\n",
        "                    print('Early stopping !')\n",
        "                    break\n",
        "                observation = self.env.reset()\n",
        "                    \n",
        "        # Plotting\n",
        "        r = pd.DataFrame((itertools.chain(*(itertools.product([i], rewards_test[i]) for i in range(len(rewards_test))))), columns=['Epoch', 'Reward'])\n",
        "        sns.lineplot(x=\"Epoch\", y=\"Reward\", data=r, ci='sd');\n",
        "        \n",
        "        print(f'The trainnig was done over a total of {episode_count} episodes')\n",
        "\n",
        "\n",
        "    def evaluate(self, render=False):\n",
        "        env = self.monitor_env if render else self.env\n",
        "        observation = env.reset()\n",
        "        observation = torch.tensor(observation, dtype=torch.float)\n",
        "        reward_episode = 0\n",
        "        done = False\n",
        "\n",
        "        while not done:\n",
        "            policy = self.actor_network(observation)\n",
        "            action = torch.multinomial(policy, 1)\n",
        "            observation, reward, done, info = env.step(int(action))\n",
        "            observation = torch.tensor(observation, dtype=torch.float)\n",
        "            reward_episode += reward\n",
        "            \n",
        "        env.close()\n",
        "        if render:\n",
        "            show_video(\"./gym-results\")\n",
        "            print(f'Reward: {reward_episode}')\n",
        "        return reward_episode"
      ],
      "execution_count": 0,
      "outputs": []
    },
    {
      "cell_type": "markdown",
      "metadata": {
        "id": "8sEwrInsjkDH",
        "colab_type": "text"
      },
      "source": [
        "Create configuration for A2C"
      ]
    },
    {
      "cell_type": "code",
      "metadata": {
        "id": "OwDDx78wjmG5",
        "colab_type": "code",
        "outputId": "dfff2e54-b5e9-4136-947b-1bddb230b714",
        "colab": {
          "base_uri": "https://localhost:8080/",
          "height": 140
        }
      },
      "source": [
        "env_id = 'CartPole-v1'\n",
        "value_learning_rate = 0.001\n",
        "actor_learning_rate = 0.001\n",
        "gamma = 0.99\n",
        "entropy = 1\n",
        "seed = 1\n",
        "\n",
        "config_a2c = {\n",
        "    'env_id': env_id,\n",
        "    'gamma': gamma,\n",
        "    'seed': seed,\n",
        "    'value_network': {'learning_rate': value_learning_rate},\n",
        "    'actor_network': {'learning_rate': actor_learning_rate},\n",
        "    'entropy': entropy\n",
        "}\n",
        "\n",
        "print(\"Current config_a2c is:\")\n",
        "pprint(config_a2c)"
      ],
      "execution_count": 7,
      "outputs": [
        {
          "output_type": "stream",
          "text": [
            "Current config_a2c is:\n",
            "{'actor_network': {'learning_rate': 0.001},\n",
            " 'entropy': 1,\n",
            " 'env_id': 'CartPole-v1',\n",
            " 'gamma': 0.99,\n",
            " 'seed': 1,\n",
            " 'value_network': {'learning_rate': 0.001}}\n"
          ],
          "name": "stdout"
        }
      ]
    },
    {
      "cell_type": "markdown",
      "metadata": {
        "id": "6xW7fe-8jvzY",
        "colab_type": "text"
      },
      "source": [
        "Run the learning agent"
      ]
    },
    {
      "cell_type": "code",
      "metadata": {
        "colab_type": "code",
        "outputId": "b963886f-31ca-4828-92b2-01339d1875bf",
        "id": "AR3A-dBfwAkT",
        "colab": {
          "base_uri": "https://localhost:8080/",
          "height": 666
        }
      },
      "source": [
        "agent = A2CAgent(config_a2c)\n",
        "rewards = agent.training_batch(1000, 256)"
      ],
      "execution_count": 8,
      "outputs": [
        {
          "output_type": "stream",
          "text": [
            "Epoch 0/1000: Mean rewards: 20.08, Std: 9.53\n",
            "Epoch 50/1000: Mean rewards: 34.42, Std: 17.95\n",
            "Epoch 100/1000: Mean rewards: 51.88, Std: 27.0\n",
            "Epoch 150/1000: Mean rewards: 75.18, Std: 43.75\n",
            "Epoch 200/1000: Mean rewards: 132.9, Std: 77.08\n",
            "Epoch 250/1000: Mean rewards: 217.34, Std: 89.37\n",
            "Epoch 300/1000: Mean rewards: 267.46, Std: 96.54\n",
            "Epoch 350/1000: Mean rewards: 228.76, Std: 77.5\n",
            "Epoch 400/1000: Mean rewards: 292.38, Std: 107.31\n",
            "Epoch 450/1000: Mean rewards: 330.88, Std: 109.69\n",
            "Epoch 500/1000: Mean rewards: 359.1, Std: 97.07\n",
            "Epoch 550/1000: Mean rewards: 386.44, Std: 111.43\n",
            "Epoch 600/1000: Mean rewards: 396.86, Std: 111.47\n",
            "Epoch 650/1000: Mean rewards: 443.8, Std: 70.35\n",
            "Epoch 700/1000: Mean rewards: 454.38, Std: 85.58\n",
            "Epoch 750/1000: Mean rewards: 455.02, Std: 75.19\n",
            "Epoch 800/1000: Mean rewards: 434.24, Std: 82.46\n",
            "Epoch 850/1000: Mean rewards: 436.4, Std: 92.44\n",
            "Epoch 900/1000: Mean rewards: 471.14, Std: 70.83\n",
            "Epoch 950/1000: Mean rewards: 438.44, Std: 83.57\n",
            "Epoch 999/1000: Mean rewards: 474.76, Std: 71.8\n",
            "The trainnig was done over a total of 1833 episodes\n"
          ],
          "name": "stdout"
        },
        {
          "output_type": "display_data",
          "data": {
            "image/png": "[encoded data removed]",
            "text/plain": [
              "<Figure size 432x288 with 1 Axes>"
            ]
          },
          "metadata": {
            "tags": []
          }
        }
      ]
    },
    {
      "cell_type": "markdown",
      "metadata": {
        "id": "NzuNtPqTju64",
        "colab_type": "text"
      },
      "source": [
        "Evaluate the agent over multiple episodes"
      ]
    },
    {
      "cell_type": "code",
      "metadata": {
        "id": "5m6cOUGL4iYe",
        "colab_type": "code",
        "colab": {
          "base_uri": "https://localhost:8080/",
          "height": 456
        },
        "outputId": "0ac5ba38-8acf-4494-bb40-3f487cae4913"
      },
      "source": [
        "agent.evaluate(render=True)"
      ],
      "execution_count": 9,
      "outputs": [
        {
          "output_type": "display_data",
          "data": {
            "text/html": [
              "<video alt=\"gym-results/openaigym.video.0.2196.video000000.mp4\" autoplay \n",
              "                      loop controls style=\"height: 400px;\">\n",
              "                      <source src=\"data:video/mp4;base64,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\" type=\"video/mp4\" />\n",
              "                 </video>"
            ],
            "text/plain": [
              "<IPython.core.display.HTML object>"
            ]
          },
          "metadata": {
            "tags": []
          }
        },
        {
          "output_type": "stream",
          "text": [
            "Reward: 500.0\n"
          ],
          "name": "stdout"
        },
        {
          "output_type": "execute_result",
          "data": {
            "text/plain": [
              "500.0"
            ]
          },
          "metadata": {
            "tags": []
          },
          "execution_count": 9
        }
      ]
    }
  ]
}